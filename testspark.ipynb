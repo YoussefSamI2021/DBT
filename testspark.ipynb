{
 "cells": [
  {
   "cell_type": "code",
   "execution_count": null,
   "metadata": {},
   "outputs": [],
   "source": [
    "# Install necessary packages\n",
    "# !sudo apt-get update -qq\n",
    "# !sudo apt-get install openjdk-8-jdk-headless -qq > /dev/null\n",
    "\n",
    "# # Download and extract PySpark 3.5.2\n",
    "# !wget -q https://archive.apache.org/dist/spark/spark-3.5.2/spark-3.5.2-bin-hadoop3.tgz\n",
    "# !tar xf spark-3.5.2-bin-hadoop3.tgz\n",
    "\n",
    "# # Install findspark\n",
    "# !pip install -q findspark\n",
    "# !pip install pyspark\n",
    "\n",
    "import os\n",
    "\n",
    "# Set environment variables for Java and Spark\n",
    "os.environ[\"JAVA_HOME\"] = \"/usr/lib/jvm/java-8-openjdk-amd64\"\n",
    "os.environ[\"SPARK_HOME\"] = \"./spark-3.5.2-bin-hadoop3\"\n"
   ]
  },
  {
   "cell_type": "code",
   "execution_count": null,
   "metadata": {},
   "outputs": [],
   "source": [
    "\n",
    "import logging\n",
    "from pyspark.sql import SparkSession\n",
    "from pyspark.sql.functions import from_json, col , regexp_replace\n",
    "from pyspark.sql.types import StructType, StructField, StringType"
   ]
  },
  {
   "cell_type": "code",
   "execution_count": null,
   "metadata": {},
   "outputs": [],
   "source": [
    "def create_spark_connection():\n",
    "    s_conn = None\n",
    "\n",
    "    try:\n",
    "        s_conn = SparkSession.builder \\\n",
    "            .appName('SparkDataStreaming') \\\n",
    "            .config(\"spark.network.timeout\", \"800s\") \\\n",
    "            .config(\"spark.jars.packages\", \"com.github.jnr:jnr-posix:3.1.15,org.apache.spark:spark-sql-kafka-0-10_2.12:3.5.2\") \\\n",
    "            .getOrCreate()\n",
    "\n",
    "        s_conn.sparkContext.setLogLevel(\"ERROR\")\n",
    "        logging.info(\"Spark connection created successfully!\")\n",
    "    except Exception as e:\n",
    "        logging.error(f\"Couldn't create the spark session due to exception {e}\")\n",
    "\n",
    "    return s_conn\n",
    "    "
   ]
  },
  {
   "cell_type": "code",
   "execution_count": null,
   "metadata": {},
   "outputs": [],
   "source": [
    "def connect_to_kafka(spark_conn):\n",
    "    spark_df = None\n",
    "    try:\n",
    "        spark_df = spark_conn.readStream \\\n",
    "            .format('kafka') \\\n",
    "            .option('kafka.bootstrap.servers', '44.215.213.113:9092') \\\n",
    "            .option('subscribe', 'e-commerce') \\\n",
    "            .option('startingOffsets', 'earliest') \\\n",
    "            .load()\n",
    "        logging.info(\"kafka dataframe created successfully\")\n",
    "    except Exception as e:\n",
    "        logging.warning(f\"kafka dataframe could not be created because: {e}\")\n",
    "\n",
    "    return spark_df"
   ]
  },
  {
   "cell_type": "code",
   "execution_count": null,
   "metadata": {},
   "outputs": [],
   "source": [
    "def create_selection_df_from_kafka(spark_df):\n",
    "    # Define schema for parsing the JSON data\n",
    "    schema = StructType([\n",
    "        StructField(\"product_id\", StringType(), True),\n",
    "        StructField(\"product_name\", StringType(), True),\n",
    "        StructField(\"category\", StringType(), True),\n",
    "        StructField(\"discounted_price\", StringType(), True),\n",
    "        StructField(\"actual_price\", StringType(), True),\n",
    "        StructField(\"discount_percentage\", StringType(), True),\n",
    "        StructField(\"rating\", StringType(), True),\n",
    "        StructField(\"rating_count\", StringType(), True),\n",
    "        StructField(\"about_product\", StringType(), True),\n",
    "        StructField(\"user_id\", StringType(), True),\n",
    "        StructField(\"user_name\", StringType(), True),\n",
    "        StructField(\"review_id\", StringType(), True),\n",
    "        StructField(\"review_title\", StringType(), True),\n",
    "        StructField(\"review_content\", StringType(), True),\n",
    "        StructField(\"img_link\", StringType(), True),\n",
    "        StructField(\"product_link\", StringType(), True)\n",
    "    ])\n",
    "\n",
    "    # Parse the JSON data\n",
    "    parsed_df = spark_df.selectExpr(\"CAST(value AS STRING)\") \\\n",
    "        .select(from_json(col(\"value\"), schema).alias(\"data\")) \\\n",
    "        .select(\"data.*\")\n",
    "\n",
    "    # Create a dictionary mapping the original column names to the new cleaned names\n",
    "    rename_dict = {col_name: col_name.replace(\" \", \"_\").replace(\"-\", \"_\") for col_name in parsed_df.columns}\n",
    "    \n",
    "    # Apply the renaming\n",
    "    for old_name, new_name in rename_dict.items():\n",
    "        parsed_df = parsed_df.withColumnRenamed(old_name, new_name)\n",
    "\n",
    "    # Convert to appropriate data types\n",
    "    processed_df = parsed_df.withColumn(\"discounted_price\", regexp_replace(\"discounted_price\", \"[^0-9]\", \"\").cast(\"int\")) \\\n",
    "        .withColumn(\"actual_price\", regexp_replace(\"actual_price\", \"[^0-9]\", \"\").cast(\"int\")) \\\n",
    "        .withColumn(\"discount_percentage\", regexp_replace(\"discount_percentage\", \"%\", \"\").cast(\"int\")) \\\n",
    "        .withColumn(\"rating\", col(\"rating\").cast(\"float\")) \\\n",
    "        .withColumn(\"rating_count\", col(\"rating_count\").cast(\"int\"))\n",
    "\n",
    "    return processed_df"
   ]
  },
  {
   "cell_type": "code",
   "execution_count": null,
   "metadata": {},
   "outputs": [],
   "source": [
    "def write_stream_to_console(selection_df):\n",
    "    try:\n",
    "        query = selection_df.writeStream \\\n",
    "            .outputMode(\"append\") \\\n",
    "            .format(\"console\") \\\n",
    "            .start()\n",
    "\n",
    "        query.awaitTermination()\n",
    "        logging.info(\"Stream started successfully and writing to console\")\n",
    "    except Exception as e:\n",
    "        logging.error(f\"Stream could not be started due to exception: {e}\")"
   ]
  },
  {
   "cell_type": "code",
   "execution_count": null,
   "metadata": {},
   "outputs": [
    {
     "name": "stderr",
     "output_type": "stream",
     "text": [
      "                                                                                \r"
     ]
    },
    {
     "name": "stdout",
     "output_type": "stream",
     "text": [
      "-------------------------------------------\n",
      "Batch: 2\n",
      "-------------------------------------------\n",
      "+----------+--------------------+--------------------+----------------+------------+-------------------+------+------------+---------------------+--------------------+--------------------+--------------------+--------------------+--------------------+--------------------+--------------------+\n",
      "|product_id|        product_name|            category|discounted_price|actual_price|discount_percentage|rating|rating_count|        about_product|             user_id|           user_name|           review_id|        review_title|      review_content|            img_link|        product_link|\n",
      "+----------+--------------------+--------------------+----------------+------------+-------------------+------+------------+---------------------+--------------------+--------------------+--------------------+--------------------+--------------------+--------------------+--------------------+\n",
      "|B07JW9H4J1|Wayona Nylon Brai...|Computers&Accesso...|             399|        1099|                 64|   4.2|        NULL| High Compatibilit...|AG3D6O4STAQKAY2UV...|Manav,Adarsh gupt...|R3HXWT0LRP0NMF,R2...|Satisfied,Chargin...|Looks durable Cha...|https://m.media-a...|https://www.amazo...|\n",
      "|B098NS6PVG|Ambrane Unbreakab...|Computers&Accesso...|             199|         349|                 43|   4.0|        NULL| Compatible with a...|AECPFYFQVRUWC3KGN...|ArdKn,Nirbhay kum...|RGIQEG07R9HS2,R1S...|A Good Braided Ca...|I ordered this ca...|https://m.media-a...|https://www.amazo...|\n",
      "|B096MSW6CT|Sounce Fast Phone...|Computers&Accesso...|             199|        1899|                 90|   3.9|        NULL|【 Fast Charger& D...|AGU3BBQ2V2DDAMOAK...|Kunal,Himanshu,vi...|R3J3EQQ9TZI5ZJ,R3...|Good speed for ea...|Not quite durable...|https://m.media-a...|https://www.amazo...|\n",
      "|B08HDJ86NZ|boAt Deuce USB 30...|Computers&Accesso...|             329|         699|                 53|   4.2|        NULL| The boAt Deuce US...|AEWAZDZZJLQUYVOVG...|Omkar dhale,JD,HE...|R3EEUZKKK9J36I,R3...|Good product,Good...|Good product,long...|https://m.media-a...|https://www.amazo...|\n",
      "|B08CF3B7N1|Portronics Konnec...|Computers&Accesso...|             154|         399|                 61|   4.2|        NULL| [CHARGE & SYNC FU...|AE3Q6KSUK5P75D5HF...|rahuls6099,Swasat...|R1BP4L2HH9TFUP,R1...|As good as origin...|Bought this inste...|https://m.media-a...|https://www.amazo...|\n",
      "|B08Y1TFSP6|pTron Solero TB30...|Computers&Accesso...|             149|        1000|                 85|   3.9|        NULL| Fast Charging & D...|AEQ2YMXSZWEOHK2EH...|Jayesh,Rajesh k.,...|R7S8ANNSDPR40,R3C...|It's pretty good,...|It's a good produ...|https://m.media-a...|https://www.amazo...|\n",
      "|B08WRWPM22|boAt Micro USB 55...|Computers&Accesso...|           17663|         499|                 65|   4.1|        NULL| It Ensures High S...|AG7C6DAADCTRQJG2B...|Vivek kumar,Amazo...|R8E73K2KWJRDS,RSD...|Long durable.,goo...|Build quality is ...|https://m.media-a...|https://www.amazo...|\n",
      "|B08DDRGWTJ|MI Usb Type-C Cab...|Computers&Accesso...|             229|         299|                 23|   4.3|        NULL| 1m long Type-C US...|AHW6E5LQ2BDYOIVLA...|Pavan A H,Jayesh ...|R2X090D1YHACKR,R3...|Worth for money -...|Worth for money -...|https://m.media-a...|https://www.amazo...|\n",
      "|B008IFXQFU|TP-Link USB WiFi ...|Computers&Accesso...|             499|         999|                 50|   4.2|        NULL| USB WiFi Adapter ...|AGV3IEFANZCKECFGU...|Azhar JuMan,Aniru...|R1LW6NWSVTVZ2H,R3...|Works on linux fo...|I use this to con...|https://m.media-a...|https://www.amazo...|\n",
      "|B082LZGK39|Ambrane Unbreakab...|Computers&Accesso...|             199|         299|                 33|   4.0|        NULL| Universal Compati...|AECPFYFQVRUWC3KGN...|ArdKn,Nirbhay kum...|RGIQEG07R9HS2,R1S...|A Good Braided Ca...|I ordered this ca...|https://m.media-a...|https://www.amazo...|\n",
      "|B08CF3D7QR|Portronics Konnec...|Computers&Accesso...|             154|         339|                 55|   4.3|        NULL| [CHARGE & SYNC FU...|AGYLPKPZHVYKKZHOT...|Tanya,Anu,Akshay,...|R11MQS7WD9C3I0,R2...|Good for fast cha...|The cable is effi...|https://m.media-a...|https://www.amazo...|\n",
      "|B0789LZTCJ|boAt Rugged v3 Ex...|Computers&Accesso...|             299|         799|                 63|   4.2|        NULL| The boAt rugged c...|AEWAZDZZJLQUYVOVG...|Omkar dhale,JD,HE...|R3EEUZKKK9J36I,R3...|Good product,Good...|Good product,long...|https://m.media-a...|https://www.amazo...|\n",
      "|B07KSMBL2H|AmazonBasics Flex...|Electronics|HomeT...|             219|         700|                 69|   4.4|        NULL| Flexible, lightwe...|AEYJ5I6JZZPOJB6MG...|Rishav Gossain,Sh...|R1FKOKZ3HHKJBZ,R2...|It's quite good a...|I am using it for...|https://m.media-a...|https://www.amazo...|\n",
      "|B085DTN6R2|Portronics Konnec...|Computers&Accesso...|             350|         899|                 61|   4.2|        NULL| [20W PD FAST CHAR...|AGUAYQHARAKR2VZTR...|Priya,Mansi,Plaba...|R1QETDIPRCX4S0,RA...|Works,Nice Produc...|Definitely isn’t ...|https://m.media-a...|https://www.amazo...|\n",
      "|B09KLVMZ3B|Portronics Konnec...|Computers&Accesso...|             159|         399|                 60|   4.1|        NULL| [CHARGE & SYNC FU...|AF2XXVO7JUBUVAOBT...|Deepaak Singh,siv...|R20XIOU25HEX80,R2...|Great but,Worked ...|Loosing charging ...|https://m.media-a...|https://www.amazo...|\n",
      "|B083342NKJ|MI Braided USB Ty...|Computers&Accesso...|             349|         399|                 13|   4.4|        NULL| 1M Long Cable. Us...|AGSGSRTEZBQY64WO2...|Birendra ku Dash,...|R2JPQNKCOE10UK,RQ...|Good product,usin...|I like it 👍👍,Be...|https://m.media-a...|https://www.amazo...|\n",
      "|B0B6F7LX4C|MI 80 cm (32 inch...|Electronics|HomeT...|           13999|       24999|                 44|   4.2|        NULL| Note : The brands...|AHEVOQADJSSRX7DS3...|Manoj maddheshiya...|R13UTIA6KOF6QV,R2...|It is the best tv...|Pros- xiomi 5a is...|https://m.media-a...|https://www.amazo...|\n",
      "|B082LSVT4B|Ambrane Unbreakab...|Computers&Accesso...|             249|         399|                 38|   4.0|        NULL| Compatible with a...|AECPFYFQVRUWC3KGN...|ArdKn,Nirbhay kum...|RGIQEG07R9HS2,R1S...|A Good Braided Ca...|I ordered this ca...|https://m.media-a...|https://www.amazo...|\n",
      "|B08WRBG3XW|boAt Type C A325 ...|Computers&Accesso...|             199|         499|                 60|   4.1|        NULL| Type C A 325 Cabl...|AFB5KJR4Q5FICAHBO...|Rohan Narkar,JAGW...|R2BP8Y5OJXKJLF,R2...|Good for charging...|Check for offera ...|https://m.media-a...|https://www.amazo...|\n",
      "|B08DPLCM6T|LG 80 cm (32 inch...|Electronics|HomeT...|           13490|       21990|                 39|   4.3|        NULL| Resolution: HD Re...|AHBNKB74LGTYUOKPA...|NIRMAL.N,Manoj ku...|R2PNR69G0BQG2F,R3...|Sound quality,Ver...|LG was always Goo...|https://m.media-a...|https://www.amazo...|\n",
      "+----------+--------------------+--------------------+----------------+------------+-------------------+------+------------+---------------------+--------------------+--------------------+--------------------+--------------------+--------------------+--------------------+--------------------+\n",
      "only showing top 20 rows\n",
      "\n"
     ]
    },
    {
     "name": "stderr",
     "output_type": "stream",
     "text": [
      "[Stage 3:>                                                          (0 + 1) / 1]\r"
     ]
    },
    {
     "name": "stdout",
     "output_type": "stream",
     "text": [
      "-------------------------------------------\n",
      "Batch: 3\n",
      "-------------------------------------------\n",
      "+----------+--------------------+--------------------+----------------+------------+-------------------+------+------------+--------------------+--------------------+--------------------+--------------------+--------------------+--------------------+--------------------+--------------------+\n",
      "|product_id|        product_name|            category|discounted_price|actual_price|discount_percentage|rating|rating_count|       about_product|             user_id|           user_name|           review_id|        review_title|      review_content|            img_link|        product_link|\n",
      "+----------+--------------------+--------------------+----------------+------------+-------------------+------+------------+--------------------+--------------------+--------------------+--------------------+--------------------+--------------------+--------------------+--------------------+\n",
      "|B00NH11PEY|AmazonBasics USB ...|Computers&Accesso...|             199|         750|                 73|   4.5|        NULL|One 9.8-foot-long...|AGBX233C7B7D7YZEL...|Pravin Kumar,Maes...|R1C8MVU3EIX56Y,R1...|Nice,good,Paisa v...|Sufficient length...|https://m.media-a...|https://www.amazo...|\n",
      "|B09CMM3VGK|Ambrane 60W / 3A ...|Computers&Accesso...|             179|         499|                 64|   4.0|        NULL|Stay ahead and ne...|AGHYCMV7RJ5D76UEZ...|Rishabh,Amazon Cu...|R223OIZPTZ994S,RA...|Good product,Good...|The cable build q...|https://m.media-a...|https://www.amazo...|\n",
      "|B08QSC1XY8|Zoul USB C 60W Fa...|Computers&Accesso...|             389|        1099|                 65|   4.3|         974|{3A/QC 3.0 FAST C...|AHMKXORT3VNMB75C3...|Pratyush Pahuja,T...|R2S0AYWUV349HP,R3...|Great Cable, Char...|Not charging as f...|https://m.media-a...|https://www.amazo...|\n",
      "|B008FWZGSG|Samsung Original ...|Computers&Accesso...|             599|         599|                  0|   4.3|         355|USB Type-C to Typ...|AEQWVGESA7TDGK7KZ...|Verified Buyer,Av...|R2Z9ENI1BK4EAB,R2...|Good,Genuine prod...|Buy it,Received i...|https://m.media-a...|https://www.amazo...|\n",
      "|B0B4HJNPV4|pTron Solero T351...|Computers&Accesso...|             199|         999|                 80|   3.9|        NULL|Universal Compati...|AF477BP57JM7Z4JD4...|Placeholder,श्रीP...|R1Q323BB35OP30,RJ...|The metal pin is ...|It's a good data ...|https://m.media-a...|https://www.amazo...|\n",
      "|B08Y1SJVV5|pTron Solero MB30...|Computers&Accesso...|              99|       66666|                 85|   3.9|        NULL|Fast Charging & D...|AEQ2YMXSZWEOHK2EH...|Jayesh,Rajesh k.,...|R7S8ANNSDPR40,R3C...|It's pretty good,...|It's a good produ...|https://m.media-a...|https://www.amazo...|\n",
      "|B07XLCFSSN|Amazonbasics Nylo...|Computers&Accesso...|             899|        1900|                 53|   4.4|        NULL|Fast Charge: When...|AF2IRSQZKMBGX44YD...|Wraith,Krishna En...|R213ILI3XNVHQ0,R1...|Good,Worth to buy...|Good budget mfi c...|https://m.media-a...|https://www.amazo...|\n",
      "|B09RZS1NQT|Sounce 65W OnePlu...|Computers&Accesso...|             199|         999|                 80|   4.0|         576|[USB C To USB C C...|AHUH7OYN3LAUATF5E...|Anmol,Vani,Tejas ...|RW294SCHB5QTK,R24...|Worth it!,Good on...|It does the job r...|https://m.media-a...|https://www.amazo...|\n",
      "|B0B3MMYHYW|OnePlus 126 cm (5...|Electronics|HomeT...|           32999|       45999|                 28|   4.2|        NULL|Resolution: 4K Ul...|AGDOVGWZKEQ3M6DA2...|Abhishek Kumar,Ar...|R2J3Q3BUHJ2S7E,R2...|Decent product. V...|I am posting this...|https://m.media-a...|https://www.amazo...|\n",
      "|B09C6HWG18|Duracell Type C T...|Computers&Accesso...|             970|        1999|                 51|   4.2|         462|Up To 10,000+ Ben...|AHRUMHBZ7IAQPLH4W...|Koushal K Jain,Ma...|R32JZC43P990BL,R3...|Product is as exp...|Same type is avai...|https://m.media-a...|https://www.amazo...|\n",
      "|B00NH11KIK|AmazonBasics USB ...|Computers&Accesso...|             209|         695|                 70|   4.5|        NULL|One 6-foot-long (...|AEYHTCWWZYU3JQBU6...|Shiva,Uzef,kottal...|R2AE3BN2Y58N55,R6...|Functionality as ...|Using it and sati...|https://m.media-a...|https://www.amazo...|\n",
      "|B09JPC82QC|Mi 108 cm (43 inc...|Electronics|HomeT...|           19999|       34999|                 43|   4.3|        NULL|Resolution : Full...|AHB43CZ4RHLJ5S6CB...|Sameer Patil,Tech...|R1VOXBV87EI37W,R1...|DETAILED REVIEW a...|NOTE:@ If you sel...|https://m.media-a...|https://www.amazo...|\n",
      "|B07JW1Y6XV|Wayona Nylon Brai...|Computers&Accesso...|             399|        1099|                 64|   4.2|        NULL|[High Compatibili...|AG3D6O4STAQKAY2UV...|Manav,Adarsh gupt...|R3HXWT0LRP0NMF,R2...|Satisfied,Chargin...|Looks durable Cha...|https://m.media-a...|https://www.amazo...|\n",
      "|B07KRCW6LZ|TP-Link Nano AC60...|Computers&Accesso...|             999|        1599|                 38|   4.3|        NULL|High Speed WiFi —...|AEM356PVXFHAXWV56...|Paul Joe,Simon Re...|RSNHWPVLK9SAQ,R2R...|Dual Bandwidth,It...|Easy to use,It's ...|https://m.media-a...|https://www.amazo...|\n",
      "|B09NJN8L25|FLiX (Beetel USB ...|Computers&Accesso...|              59|         199|                 70|   4.0|        NULL|Micro USB chargin...|AHIKJUDTVJ4T6DV6I...|$@|\\|TO$|-|,Sethu...|R3F4T5TRYPTMIG,R3...|Worked on iPhone ...|Worked on iPhone ...|https://m.media-a...|https://www.amazo...|\n",
      "|B07XJYYH7L|Wecool Nylon Brai...|Computers&Accesso...|             333|         999|                 67|   3.3|        NULL|Special Features ...|AE47XF2766XJOEOI4...|Amazon Customer,D...|RWSHFGBE1WU3I,R1V...|Its slow in charg...|Charging power is...|https://m.media-a...|https://www.amazo...|\n",
      "|B002PD61Y4|D-Link DWA-131 30...|Computers&Accesso...|             507|        1208|                 58|   4.1|        NULL|Connects your com...|AGA2PZGWMQIRA46VY...|nilesh,EAGLE,Mano...|R2EJIN3N3L3XKI,R2...|good tool to use ...|good quality tool...|https://m.media-a...|https://www.amazo...|\n",
      "|B014I8SSD0|Amazon Basics Hig...|Electronics|HomeT...|             309|         475|                 35|   4.4|        NULL|Please select app...|AEYJ5I6JZZPOJB6MG...|Rishav Gossain,Sh...|R1FKOKZ3HHKJBZ,R2...|It's quite good a...|I am using it for...|https://m.media-a...|https://www.amazo...|\n",
      "|B09L8DSSFH|7SEVEN® Compatibl...|Electronics|HomeT...|             399|         999|                 60|   3.6|         493|1. 7SEVEN Compati...|AH5G2FWQ6AJBXK2ID...|MONTY,Qais Makani...|RVEWH0LAEO3NH,R3E...|Overall Good,Work...|Overall replaceme...|https://m.media-a...|https://www.amazo...|\n",
      "|B07232M876|Amazonbasics Micr...|Computers&Accesso...|             199|         395|                 50|   4.2|        NULL|Cable Length: 6 F...|AF7IXQKBUL6NEIQG4...|Neeraj Vishwakarm...|R22EUJ1B1AM0OU,R2...|Using it with my ...|ABOUT  AMAZONBASI...|https://m.media-a...|https://www.amazo...|\n",
      "+----------+--------------------+--------------------+----------------+------------+-------------------+------+------------+--------------------+--------------------+--------------------+--------------------+--------------------+--------------------+--------------------+--------------------+\n",
      "only showing top 20 rows\n",
      "\n"
     ]
    },
    {
     "name": "stderr",
     "output_type": "stream",
     "text": [
      "[Stage 4:>                                                          (0 + 1) / 1]\r"
     ]
    },
    {
     "name": "stdout",
     "output_type": "stream",
     "text": [
      "-------------------------------------------\n",
      "Batch: 4\n",
      "-------------------------------------------\n",
      "+----------+--------------------+--------------------+----------------+------------+-------------------+------+------------+---------------------+--------------------+--------------------+--------------------+--------------------+--------------------+--------------------+--------------------+\n",
      "|product_id|        product_name|            category|discounted_price|actual_price|discount_percentage|rating|rating_count|        about_product|             user_id|           user_name|           review_id|        review_title|      review_content|            img_link|        product_link|\n",
      "+----------+--------------------+--------------------+----------------+------------+-------------------+------+------------+---------------------+--------------------+--------------------+--------------------+--------------------+--------------------+--------------------+--------------------+\n",
      "|B07JW9H4J1|Wayona Nylon Brai...|Computers&Accesso...|             399|        1099|                 64|   4.2|        NULL| High Compatibilit...|AG3D6O4STAQKAY2UV...|Manav,Adarsh gupt...|R3HXWT0LRP0NMF,R2...|Satisfied,Chargin...|Looks durable Cha...|https://m.media-a...|https://www.amazo...|\n",
      "|B098NS6PVG|Ambrane Unbreakab...|Computers&Accesso...|             199|         349|                 43|   4.0|        NULL| Compatible with a...|AECPFYFQVRUWC3KGN...|ArdKn,Nirbhay kum...|RGIQEG07R9HS2,R1S...|A Good Braided Ca...|I ordered this ca...|https://m.media-a...|https://www.amazo...|\n",
      "|B096MSW6CT|Sounce Fast Phone...|Computers&Accesso...|             199|        1899|                 90|   3.9|        NULL|【 Fast Charger& D...|AGU3BBQ2V2DDAMOAK...|Kunal,Himanshu,vi...|R3J3EQQ9TZI5ZJ,R3...|Good speed for ea...|Not quite durable...|https://m.media-a...|https://www.amazo...|\n",
      "|B08HDJ86NZ|boAt Deuce USB 30...|Computers&Accesso...|             329|         699|                 53|   4.2|        NULL| The boAt Deuce US...|AEWAZDZZJLQUYVOVG...|Omkar dhale,JD,HE...|R3EEUZKKK9J36I,R3...|Good product,Good...|Good product,long...|https://m.media-a...|https://www.amazo...|\n",
      "|B08CF3B7N1|Portronics Konnec...|Computers&Accesso...|             154|         399|                 61|   4.2|        NULL| [CHARGE & SYNC FU...|AE3Q6KSUK5P75D5HF...|rahuls6099,Swasat...|R1BP4L2HH9TFUP,R1...|As good as origin...|Bought this inste...|https://m.media-a...|https://www.amazo...|\n",
      "|B08Y1TFSP6|pTron Solero TB30...|Computers&Accesso...|             149|        1000|                 85|   3.9|        NULL| Fast Charging & D...|AEQ2YMXSZWEOHK2EH...|Jayesh,Rajesh k.,...|R7S8ANNSDPR40,R3C...|It's pretty good,...|It's a good produ...|https://m.media-a...|https://www.amazo...|\n",
      "|B08WRWPM22|boAt Micro USB 55...|Computers&Accesso...|           17663|         499|                 65|   4.1|        NULL| It Ensures High S...|AG7C6DAADCTRQJG2B...|Vivek kumar,Amazo...|R8E73K2KWJRDS,RSD...|Long durable.,goo...|Build quality is ...|https://m.media-a...|https://www.amazo...|\n",
      "|B08DDRGWTJ|MI Usb Type-C Cab...|Computers&Accesso...|             229|         299|                 23|   4.3|        NULL| 1m long Type-C US...|AHW6E5LQ2BDYOIVLA...|Pavan A H,Jayesh ...|R2X090D1YHACKR,R3...|Worth for money -...|Worth for money -...|https://m.media-a...|https://www.amazo...|\n",
      "|B008IFXQFU|TP-Link USB WiFi ...|Computers&Accesso...|             499|         999|                 50|   4.2|        NULL| USB WiFi Adapter ...|AGV3IEFANZCKECFGU...|Azhar JuMan,Aniru...|R1LW6NWSVTVZ2H,R3...|Works on linux fo...|I use this to con...|https://m.media-a...|https://www.amazo...|\n",
      "|B082LZGK39|Ambrane Unbreakab...|Computers&Accesso...|             199|         299|                 33|   4.0|        NULL| Universal Compati...|AECPFYFQVRUWC3KGN...|ArdKn,Nirbhay kum...|RGIQEG07R9HS2,R1S...|A Good Braided Ca...|I ordered this ca...|https://m.media-a...|https://www.amazo...|\n",
      "|B08CF3D7QR|Portronics Konnec...|Computers&Accesso...|             154|         339|                 55|   4.3|        NULL| [CHARGE & SYNC FU...|AGYLPKPZHVYKKZHOT...|Tanya,Anu,Akshay,...|R11MQS7WD9C3I0,R2...|Good for fast cha...|The cable is effi...|https://m.media-a...|https://www.amazo...|\n",
      "|B0789LZTCJ|boAt Rugged v3 Ex...|Computers&Accesso...|             299|         799|                 63|   4.2|        NULL| The boAt rugged c...|AEWAZDZZJLQUYVOVG...|Omkar dhale,JD,HE...|R3EEUZKKK9J36I,R3...|Good product,Good...|Good product,long...|https://m.media-a...|https://www.amazo...|\n",
      "|B07KSMBL2H|AmazonBasics Flex...|Electronics|HomeT...|             219|         700|                 69|   4.4|        NULL| Flexible, lightwe...|AEYJ5I6JZZPOJB6MG...|Rishav Gossain,Sh...|R1FKOKZ3HHKJBZ,R2...|It's quite good a...|I am using it for...|https://m.media-a...|https://www.amazo...|\n",
      "|B085DTN6R2|Portronics Konnec...|Computers&Accesso...|             350|         899|                 61|   4.2|        NULL| [20W PD FAST CHAR...|AGUAYQHARAKR2VZTR...|Priya,Mansi,Plaba...|R1QETDIPRCX4S0,RA...|Works,Nice Produc...|Definitely isn’t ...|https://m.media-a...|https://www.amazo...|\n",
      "|B09KLVMZ3B|Portronics Konnec...|Computers&Accesso...|             159|         399|                 60|   4.1|        NULL| [CHARGE & SYNC FU...|AF2XXVO7JUBUVAOBT...|Deepaak Singh,siv...|R20XIOU25HEX80,R2...|Great but,Worked ...|Loosing charging ...|https://m.media-a...|https://www.amazo...|\n",
      "|B083342NKJ|MI Braided USB Ty...|Computers&Accesso...|             349|         399|                 13|   4.4|        NULL| 1M Long Cable. Us...|AGSGSRTEZBQY64WO2...|Birendra ku Dash,...|R2JPQNKCOE10UK,RQ...|Good product,usin...|I like it 👍👍,Be...|https://m.media-a...|https://www.amazo...|\n",
      "|B0B6F7LX4C|MI 80 cm (32 inch...|Electronics|HomeT...|           13999|       24999|                 44|   4.2|        NULL| Note : The brands...|AHEVOQADJSSRX7DS3...|Manoj maddheshiya...|R13UTIA6KOF6QV,R2...|It is the best tv...|Pros- xiomi 5a is...|https://m.media-a...|https://www.amazo...|\n",
      "|B082LSVT4B|Ambrane Unbreakab...|Computers&Accesso...|             249|         399|                 38|   4.0|        NULL| Compatible with a...|AECPFYFQVRUWC3KGN...|ArdKn,Nirbhay kum...|RGIQEG07R9HS2,R1S...|A Good Braided Ca...|I ordered this ca...|https://m.media-a...|https://www.amazo...|\n",
      "|B08WRBG3XW|boAt Type C A325 ...|Computers&Accesso...|             199|         499|                 60|   4.1|        NULL| Type C A 325 Cabl...|AFB5KJR4Q5FICAHBO...|Rohan Narkar,JAGW...|R2BP8Y5OJXKJLF,R2...|Good for charging...|Check for offera ...|https://m.media-a...|https://www.amazo...|\n",
      "|B08DPLCM6T|LG 80 cm (32 inch...|Electronics|HomeT...|           13490|       21990|                 39|   4.3|        NULL| Resolution: HD Re...|AHBNKB74LGTYUOKPA...|NIRMAL.N,Manoj ku...|R2PNR69G0BQG2F,R3...|Sound quality,Ver...|LG was always Goo...|https://m.media-a...|https://www.amazo...|\n",
      "+----------+--------------------+--------------------+----------------+------------+-------------------+------+------------+---------------------+--------------------+--------------------+--------------------+--------------------+--------------------+--------------------+--------------------+\n",
      "only showing top 20 rows\n",
      "\n"
     ]
    },
    {
     "name": "stderr",
     "output_type": "stream",
     "text": [
      "                                                                                \r"
     ]
    },
    {
     "name": "stdout",
     "output_type": "stream",
     "text": [
      "-------------------------------------------\n",
      "Batch: 5\n",
      "-------------------------------------------\n",
      "+----------+--------------------+--------------------+----------------+------------+-------------------+------+------------+--------------------+--------------------+--------------------+--------------------+--------------------+--------------------+--------------------+--------------------+\n",
      "|product_id|        product_name|            category|discounted_price|actual_price|discount_percentage|rating|rating_count|       about_product|             user_id|           user_name|           review_id|        review_title|      review_content|            img_link|        product_link|\n",
      "+----------+--------------------+--------------------+----------------+------------+-------------------+------+------------+--------------------+--------------------+--------------------+--------------------+--------------------+--------------------+--------------------+--------------------+\n",
      "|B07JW1Y6XV|Wayona Nylon Brai...|Computers&Accesso...|             399|        1099|                 64|   4.2|        NULL|[High Compatibili...|AG3D6O4STAQKAY2UV...|Manav,Adarsh gupt...|R3HXWT0LRP0NMF,R2...|Satisfied,Chargin...|Looks durable Cha...|https://m.media-a...|https://www.amazo...|\n",
      "|B07KRCW6LZ|TP-Link Nano AC60...|Computers&Accesso...|             999|        1599|                 38|   4.3|        NULL|High Speed WiFi —...|AEM356PVXFHAXWV56...|Paul Joe,Simon Re...|RSNHWPVLK9SAQ,R2R...|Dual Bandwidth,It...|Easy to use,It's ...|https://m.media-a...|https://www.amazo...|\n",
      "|B09NJN8L25|FLiX (Beetel USB ...|Computers&Accesso...|              59|         199|                 70|   4.0|        NULL|Micro USB chargin...|AHIKJUDTVJ4T6DV6I...|$@|\\|TO$|-|,Sethu...|R3F4T5TRYPTMIG,R3...|Worked on iPhone ...|Worked on iPhone ...|https://m.media-a...|https://www.amazo...|\n",
      "|B07XJYYH7L|Wecool Nylon Brai...|Computers&Accesso...|             333|         999|                 67|   3.3|        NULL|Special Features ...|AE47XF2766XJOEOI4...|Amazon Customer,D...|RWSHFGBE1WU3I,R1V...|Its slow in charg...|Charging power is...|https://m.media-a...|https://www.amazo...|\n",
      "|B002PD61Y4|D-Link DWA-131 30...|Computers&Accesso...|             507|        1208|                 58|   4.1|        NULL|Connects your com...|AGA2PZGWMQIRA46VY...|nilesh,EAGLE,Mano...|R2EJIN3N3L3XKI,R2...|good tool to use ...|good quality tool...|https://m.media-a...|https://www.amazo...|\n",
      "|B014I8SSD0|Amazon Basics Hig...|Electronics|HomeT...|             309|         475|                 35|   4.4|        NULL|Please select app...|AEYJ5I6JZZPOJB6MG...|Rishav Gossain,Sh...|R1FKOKZ3HHKJBZ,R2...|It's quite good a...|I am using it for...|https://m.media-a...|https://www.amazo...|\n",
      "|B09L8DSSFH|7SEVEN® Compatibl...|Electronics|HomeT...|             399|         999|                 60|   3.6|         493|1. 7SEVEN Compati...|AH5G2FWQ6AJBXK2ID...|MONTY,Qais Makani...|RVEWH0LAEO3NH,R3E...|Overall Good,Work...|Overall replaceme...|https://m.media-a...|https://www.amazo...|\n",
      "|B07232M876|Amazonbasics Micr...|Computers&Accesso...|             199|         395|                 50|   4.2|        NULL|Cable Length: 6 F...|AF7IXQKBUL6NEIQG4...|Neeraj Vishwakarm...|R22EUJ1B1AM0OU,R2...|Using it with my ...|ABOUT  AMAZONBASI...|https://m.media-a...|https://www.amazo...|\n",
      "|B07P681N66|TP-Link AC600 600...|Computers&Accesso...|            1199|        2199|                 45|   4.4|        NULL|High-Speed Wi-Fi ...|AHDFR3PDKEBV72HXR...|Anonymous,Sugam A...|R2GUL8IL005EGF,R3...|Works flawlessly ...|I am using this o...|https://m.media-a...|https://www.amazo...|\n",
      "|B0711PVX6Z|AmazonBasics Micr...|Computers&Accesso...|             179|         500|                 64|   4.2|        NULL|Micro usb chargin...|AF7IXQKBUL6NEIQG4...|Neeraj Vishwakarm...|R22EUJ1B1AM0OU,R2...|Using it with my ...|ABOUT  AMAZONBASI...|https://m.media-a...|https://www.amazo...|\n",
      "|B082T6V3DT|AmazonBasics New ...|Computers&Accesso...|             799|        2100|                 62|   4.3|        NULL|Added Protection:...|AFWJSD4AVIM6DC3YA...|Arun verma,Arv,Aa...|R1Q0PEVL6X8WZJ,RW...|Good product but ...|It cost should be...|https://m.media-a...|https://www.amazo...|\n",
      "|B07MKFNHKG|VW 80 cm (32 inch...|Electronics|HomeT...|            6999|       12999|                 46|   4.2|        NULL|Resolution: HD Re...|AFIU4APGHOFMXEOVM...|Amazon Customer,Y...|RFZ1X95QMXWFZ,R1P...|Firestick pluggin...|I got this for 6k...|https://m.media-a...|https://www.amazo...|\n",
      "|B0BFWGBX61|Ambrane Unbreakab...|Computers&Accesso...|             199|         349|                 43|   4.1|         314|Compatible with a...|AF36YUJUEUU3SA42P...|Vipan Agnihotri,H...|RQAF3Q7KCEGHP,R3C...|Good product,Stro...|quality is ok ok ...|https://m.media-a...|https://www.amazo...|\n",
      "|B01N90RZ4M|Tata Sky Universa...|Electronics|HomeT...|             230|         499|                 54|   3.7|        NULL|Universal remote ...|AEOM4KLP4SKKVSOCA...|Jacob.,Dinesh Ahu...|RJ19CW7WCSFUI,R3W...|The button contac...|The button contac...|https://m.media-a...|https://www.amazo...|\n",
      "|B0088TKTY2|TP-LINK WiFi Dong...|Computers&Accesso...|             649|        1399|                 54|   4.2|        NULL|300 Mbps Wi-Fi ——...|AGV3IEFANZCKECFGU...|Azhar JuMan,Aniru...|R1LW6NWSVTVZ2H,R3...|Works on linux fo...|I use this to con...|https://m.media-a...|https://www.amazo...|\n",
      "|B09Q5SWVBJ|OnePlus 80 cm (32...|Electronics|HomeT...|           15999|       21999|                 27|   4.2|        NULL|Resolution : HD R...|AFUT7ANZTZYGLXU65...|ATHARVA BONDRE,Su...|R3COVVOP2R7Z28,R2...|Worthy and most a...|This OnePlus TV i...|https://m.media-a...|https://www.amazo...|\n",
      "|B0B4DT8MKT|Wecool Unbreakabl...|Computers&Accesso...|             348|        1499|                 77|   4.2|         656|Fast Charging Cab...|AGH3POHLPXABF3I4A...|nisar,Pralipta Ku...|R25WW5K08CGVXV,R1...|Nice,Awesome,Quic...|Good,Got a nice p...|https://m.media-a...|https://www.amazo...|\n",
      "|B08CDKQ8T6|Portronics Konnec...|Computers&Accesso...|             154|         349|                 56|   4.3|        NULL|MORE DURABLE- Kon...|AFDCSF36NJYXASQOJ...|Arun S.,Jeevan Pr...|R2ACU430AWSQ15,RZ...|It's working,It's...|Working fine,very...|https://m.media-a...|https://www.amazo...|\n",
      "|B07B275VN9|Airtel DigitalTV ...|Electronics|HomeT...|             179|         799|                 78|   3.7|        NULL|This is Generic A...|AED54H4JXQGZT6GAN...|Periyasamy,Madhus...|R3MXMT6V18JJ1P,R1...|Simple and good,S...|Nice,Works very w...|https://m.media-a...|https://www.amazo...|\n",
      "|B0B15CPR37|Samsung 108 cm (4...|Electronics|HomeT...|           32990|       47900|                 31|   4.3|        NULL|Resolution : Crys...|AHDIDVECFGA6OQRNU...|Binu,Sabjan,Ramka...|R3RUBB6REUGTT,R28...|Best(Branded) Bud...|Before finalizing...|https://m.media-a...|https://www.amazo...|\n",
      "+----------+--------------------+--------------------+----------------+------------+-------------------+------+------------+--------------------+--------------------+--------------------+--------------------+--------------------+--------------------+--------------------+--------------------+\n",
      "only showing top 20 rows\n",
      "\n"
     ]
    },
    {
     "name": "stderr",
     "output_type": "stream",
     "text": [
      "                                                                                \r"
     ]
    },
    {
     "name": "stdout",
     "output_type": "stream",
     "text": [
      "-------------------------------------------\n",
      "Batch: 6\n",
      "-------------------------------------------\n",
      "+----------+--------------------+--------------------+----------------+------------+-------------------+------+------------+---------------------+--------------------+--------------------+--------------------+--------------------+--------------------+--------------------+--------------------+\n",
      "|product_id|        product_name|            category|discounted_price|actual_price|discount_percentage|rating|rating_count|        about_product|             user_id|           user_name|           review_id|        review_title|      review_content|            img_link|        product_link|\n",
      "+----------+--------------------+--------------------+----------------+------------+-------------------+------+------------+---------------------+--------------------+--------------------+--------------------+--------------------+--------------------+--------------------+--------------------+\n",
      "|B07JW9H4J1|Wayona Nylon Brai...|Computers&Accesso...|             399|        1099|                 64|   4.2|        NULL| High Compatibilit...|AG3D6O4STAQKAY2UV...|Manav,Adarsh gupt...|R3HXWT0LRP0NMF,R2...|Satisfied,Chargin...|Looks durable Cha...|https://m.media-a...|https://www.amazo...|\n",
      "|B098NS6PVG|Ambrane Unbreakab...|Computers&Accesso...|             199|         349|                 43|   4.0|        NULL| Compatible with a...|AECPFYFQVRUWC3KGN...|ArdKn,Nirbhay kum...|RGIQEG07R9HS2,R1S...|A Good Braided Ca...|I ordered this ca...|https://m.media-a...|https://www.amazo...|\n",
      "|B096MSW6CT|Sounce Fast Phone...|Computers&Accesso...|             199|        1899|                 90|   3.9|        NULL|【 Fast Charger& D...|AGU3BBQ2V2DDAMOAK...|Kunal,Himanshu,vi...|R3J3EQQ9TZI5ZJ,R3...|Good speed for ea...|Not quite durable...|https://m.media-a...|https://www.amazo...|\n",
      "|B08HDJ86NZ|boAt Deuce USB 30...|Computers&Accesso...|             329|         699|                 53|   4.2|        NULL| The boAt Deuce US...|AEWAZDZZJLQUYVOVG...|Omkar dhale,JD,HE...|R3EEUZKKK9J36I,R3...|Good product,Good...|Good product,long...|https://m.media-a...|https://www.amazo...|\n",
      "|B08CF3B7N1|Portronics Konnec...|Computers&Accesso...|             154|         399|                 61|   4.2|        NULL| [CHARGE & SYNC FU...|AE3Q6KSUK5P75D5HF...|rahuls6099,Swasat...|R1BP4L2HH9TFUP,R1...|As good as origin...|Bought this inste...|https://m.media-a...|https://www.amazo...|\n",
      "|B08Y1TFSP6|pTron Solero TB30...|Computers&Accesso...|             149|        1000|                 85|   3.9|        NULL| Fast Charging & D...|AEQ2YMXSZWEOHK2EH...|Jayesh,Rajesh k.,...|R7S8ANNSDPR40,R3C...|It's pretty good,...|It's a good produ...|https://m.media-a...|https://www.amazo...|\n",
      "|B08WRWPM22|boAt Micro USB 55...|Computers&Accesso...|           17663|         499|                 65|   4.1|        NULL| It Ensures High S...|AG7C6DAADCTRQJG2B...|Vivek kumar,Amazo...|R8E73K2KWJRDS,RSD...|Long durable.,goo...|Build quality is ...|https://m.media-a...|https://www.amazo...|\n",
      "|B08DDRGWTJ|MI Usb Type-C Cab...|Computers&Accesso...|             229|         299|                 23|   4.3|        NULL| 1m long Type-C US...|AHW6E5LQ2BDYOIVLA...|Pavan A H,Jayesh ...|R2X090D1YHACKR,R3...|Worth for money -...|Worth for money -...|https://m.media-a...|https://www.amazo...|\n",
      "|B008IFXQFU|TP-Link USB WiFi ...|Computers&Accesso...|             499|         999|                 50|   4.2|        NULL| USB WiFi Adapter ...|AGV3IEFANZCKECFGU...|Azhar JuMan,Aniru...|R1LW6NWSVTVZ2H,R3...|Works on linux fo...|I use this to con...|https://m.media-a...|https://www.amazo...|\n",
      "|B082LZGK39|Ambrane Unbreakab...|Computers&Accesso...|             199|         299|                 33|   4.0|        NULL| Universal Compati...|AECPFYFQVRUWC3KGN...|ArdKn,Nirbhay kum...|RGIQEG07R9HS2,R1S...|A Good Braided Ca...|I ordered this ca...|https://m.media-a...|https://www.amazo...|\n",
      "|B08CF3D7QR|Portronics Konnec...|Computers&Accesso...|             154|         339|                 55|   4.3|        NULL| [CHARGE & SYNC FU...|AGYLPKPZHVYKKZHOT...|Tanya,Anu,Akshay,...|R11MQS7WD9C3I0,R2...|Good for fast cha...|The cable is effi...|https://m.media-a...|https://www.amazo...|\n",
      "|B0789LZTCJ|boAt Rugged v3 Ex...|Computers&Accesso...|             299|         799|                 63|   4.2|        NULL| The boAt rugged c...|AEWAZDZZJLQUYVOVG...|Omkar dhale,JD,HE...|R3EEUZKKK9J36I,R3...|Good product,Good...|Good product,long...|https://m.media-a...|https://www.amazo...|\n",
      "|B07KSMBL2H|AmazonBasics Flex...|Electronics|HomeT...|             219|         700|                 69|   4.4|        NULL| Flexible, lightwe...|AEYJ5I6JZZPOJB6MG...|Rishav Gossain,Sh...|R1FKOKZ3HHKJBZ,R2...|It's quite good a...|I am using it for...|https://m.media-a...|https://www.amazo...|\n",
      "|B085DTN6R2|Portronics Konnec...|Computers&Accesso...|             350|         899|                 61|   4.2|        NULL| [20W PD FAST CHAR...|AGUAYQHARAKR2VZTR...|Priya,Mansi,Plaba...|R1QETDIPRCX4S0,RA...|Works,Nice Produc...|Definitely isn’t ...|https://m.media-a...|https://www.amazo...|\n",
      "|B09KLVMZ3B|Portronics Konnec...|Computers&Accesso...|             159|         399|                 60|   4.1|        NULL| [CHARGE & SYNC FU...|AF2XXVO7JUBUVAOBT...|Deepaak Singh,siv...|R20XIOU25HEX80,R2...|Great but,Worked ...|Loosing charging ...|https://m.media-a...|https://www.amazo...|\n",
      "|B083342NKJ|MI Braided USB Ty...|Computers&Accesso...|             349|         399|                 13|   4.4|        NULL| 1M Long Cable. Us...|AGSGSRTEZBQY64WO2...|Birendra ku Dash,...|R2JPQNKCOE10UK,RQ...|Good product,usin...|I like it 👍👍,Be...|https://m.media-a...|https://www.amazo...|\n",
      "|B0B6F7LX4C|MI 80 cm (32 inch...|Electronics|HomeT...|           13999|       24999|                 44|   4.2|        NULL| Note : The brands...|AHEVOQADJSSRX7DS3...|Manoj maddheshiya...|R13UTIA6KOF6QV,R2...|It is the best tv...|Pros- xiomi 5a is...|https://m.media-a...|https://www.amazo...|\n",
      "|B082LSVT4B|Ambrane Unbreakab...|Computers&Accesso...|             249|         399|                 38|   4.0|        NULL| Compatible with a...|AECPFYFQVRUWC3KGN...|ArdKn,Nirbhay kum...|RGIQEG07R9HS2,R1S...|A Good Braided Ca...|I ordered this ca...|https://m.media-a...|https://www.amazo...|\n",
      "|B08WRBG3XW|boAt Type C A325 ...|Computers&Accesso...|             199|         499|                 60|   4.1|        NULL| Type C A 325 Cabl...|AFB5KJR4Q5FICAHBO...|Rohan Narkar,JAGW...|R2BP8Y5OJXKJLF,R2...|Good for charging...|Check for offera ...|https://m.media-a...|https://www.amazo...|\n",
      "|B08DPLCM6T|LG 80 cm (32 inch...|Electronics|HomeT...|           13490|       21990|                 39|   4.3|        NULL| Resolution: HD Re...|AHBNKB74LGTYUOKPA...|NIRMAL.N,Manoj ku...|R2PNR69G0BQG2F,R3...|Sound quality,Ver...|LG was always Goo...|https://m.media-a...|https://www.amazo...|\n",
      "+----------+--------------------+--------------------+----------------+------------+-------------------+------+------------+---------------------+--------------------+--------------------+--------------------+--------------------+--------------------+--------------------+--------------------+\n",
      "only showing top 20 rows\n",
      "\n"
     ]
    },
    {
     "name": "stderr",
     "output_type": "stream",
     "text": [
      "                                                                                \r"
     ]
    },
    {
     "name": "stdout",
     "output_type": "stream",
     "text": [
      "-------------------------------------------\n",
      "Batch: 7\n",
      "-------------------------------------------\n",
      "+----------+--------------------+--------------------+----------------+------------+-------------------+------+------------+---------------------+--------------------+--------------------+--------------------+--------------------+--------------------+--------------------+--------------------+\n",
      "|product_id|        product_name|            category|discounted_price|actual_price|discount_percentage|rating|rating_count|        about_product|             user_id|           user_name|           review_id|        review_title|      review_content|            img_link|        product_link|\n",
      "+----------+--------------------+--------------------+----------------+------------+-------------------+------+------------+---------------------+--------------------+--------------------+--------------------+--------------------+--------------------+--------------------+--------------------+\n",
      "|B082T6V3DT|AmazonBasics New ...|Computers&Accesso...|             799|        2100|                 62|   4.3|        NULL| Added Protection:...|AFWJSD4AVIM6DC3YA...|Arun verma,Arv,Aa...|R1Q0PEVL6X8WZJ,RW...|Good product but ...|It cost should be...|https://m.media-a...|https://www.amazo...|\n",
      "|B07MKFNHKG|VW 80 cm (32 inch...|Electronics|HomeT...|            6999|       12999|                 46|   4.2|        NULL| Resolution: HD Re...|AFIU4APGHOFMXEOVM...|Amazon Customer,Y...|RFZ1X95QMXWFZ,R1P...|Firestick pluggin...|I got this for 6k...|https://m.media-a...|https://www.amazo...|\n",
      "|B0BFWGBX61|Ambrane Unbreakab...|Computers&Accesso...|             199|         349|                 43|   4.1|         314| Compatible with a...|AF36YUJUEUU3SA42P...|Vipan Agnihotri,H...|RQAF3Q7KCEGHP,R3C...|Good product,Stro...|quality is ok ok ...|https://m.media-a...|https://www.amazo...|\n",
      "|B01N90RZ4M|Tata Sky Universa...|Electronics|HomeT...|             230|         499|                 54|   3.7|        NULL| Universal remote ...|AEOM4KLP4SKKVSOCA...|Jacob.,Dinesh Ahu...|RJ19CW7WCSFUI,R3W...|The button contac...|The button contac...|https://m.media-a...|https://www.amazo...|\n",
      "|B0088TKTY2|TP-LINK WiFi Dong...|Computers&Accesso...|             649|        1399|                 54|   4.2|        NULL| 300 Mbps Wi-Fi ——...|AGV3IEFANZCKECFGU...|Azhar JuMan,Aniru...|R1LW6NWSVTVZ2H,R3...|Works on linux fo...|I use this to con...|https://m.media-a...|https://www.amazo...|\n",
      "|B09Q5SWVBJ|OnePlus 80 cm (32...|Electronics|HomeT...|           15999|       21999|                 27|   4.2|        NULL| Resolution : HD R...|AFUT7ANZTZYGLXU65...|ATHARVA BONDRE,Su...|R3COVVOP2R7Z28,R2...|Worthy and most a...|This OnePlus TV i...|https://m.media-a...|https://www.amazo...|\n",
      "|B0B4DT8MKT|Wecool Unbreakabl...|Computers&Accesso...|             348|        1499|                 77|   4.2|         656| Fast Charging Cab...|AGH3POHLPXABF3I4A...|nisar,Pralipta Ku...|R25WW5K08CGVXV,R1...|Nice,Awesome,Quic...|Good,Got a nice p...|https://m.media-a...|https://www.amazo...|\n",
      "|B08CDKQ8T6|Portronics Konnec...|Computers&Accesso...|             154|         349|                 56|   4.3|        NULL| MORE DURABLE- Kon...|AFDCSF36NJYXASQOJ...|Arun S.,Jeevan Pr...|R2ACU430AWSQ15,RZ...|It's working,It's...|Working fine,very...|https://m.media-a...|https://www.amazo...|\n",
      "|B07B275VN9|Airtel DigitalTV ...|Electronics|HomeT...|             179|         799|                 78|   3.7|        NULL| This is Generic A...|AED54H4JXQGZT6GAN...|Periyasamy,Madhus...|R3MXMT6V18JJ1P,R1...|Simple and good,S...|Nice,Works very w...|https://m.media-a...|https://www.amazo...|\n",
      "|B0B15CPR37|Samsung 108 cm (4...|Electronics|HomeT...|           32990|       47900|                 31|   4.3|        NULL| Resolution : Crys...|AHDIDVECFGA6OQRNU...|Binu,Sabjan,Ramka...|R3RUBB6REUGTT,R28...|Best(Branded) Bud...|Before finalizing...|https://m.media-a...|https://www.amazo...|\n",
      "|B0994GFWBH|Lapster 1.5 mtr U...|Computers&Accesso...|             139|         999|                 86|   4.0|        NULL| Plug & Play|Stabl...|AF42EMTPEJAL4LNEP...|pruthvi natraj,Ph...|RZJR37WFGXR9B,R39...|A well-priced pro...|i am writing this...|https://m.media-a...|https://www.amazo...|\n",
      "|B01GGKZ0V6|AmazonBasics USB ...|Computers&Accesso...|             329|         845|                 61|   4.2|        NULL| Connect Usb Type-...|AEITVIFC7WZAEQDIV...|harpreet,Y Kiran ...|R37S13YALMRPGK,R2...|Its ok product no...|Not too good not ...|https://m.media-a...|https://www.amazo...|\n",
      "|B09F9YQQ7B|Redmi 80 cm (32 i...|Electronics|HomeT...|           13999|       24999|                 44|   4.2|        NULL| Resolution: HD Re...|AG6WSLLXZY52HSQUY...|prateeq,Suraj Cha...|R3CR9H6ABJ4Q4O,R2...|Worth the price,M...|Worth the price. ...|https://m.media-a...|https://www.amazo...|\n",
      "|B014I8SX4Y|Amazon Basics Hig...|Electronics|HomeT...|             309|        1400|                 78|   4.4|        NULL| HDMI A Male to A ...|AEYJ5I6JZZPOJB6MG...|Rishav Gossain,Sh...|R1FKOKZ3HHKJBZ,R2...|It's quite good a...|I am using it for...|https://m.media-a...|https://www.amazo...|\n",
      "|B09Q8HMKZX|Portronics Konnec...|Computers&Accesso...|             263|         699|                 62|   4.1|         450| [1.2 M LONG DURAB...|AF6SKHWKK53BMAI6U...|Thenmozhi,manish,...|R1LG3XV2XYCQQB,RP...|Iphone User,Overa...|Good braided cabl...|https://m.media-a...|https://www.amazo...|\n",
      "|B0B9XN9S3W|Acer 80 cm (32 in...|Electronics|HomeT...|            7999|       14990|                 47|   4.3|         457| Resolution: HD Re...|AFXQSBDW6232K22UM...|ARUN KUMAR A V,An...|R3FTW5HNPCX66C,RM...|Value for Money,G...|Regarding rate I ...|https://m.media-a...|https://www.amazo...|\n",
      "|B07966M8XH|Model-P4 6 Way Sw...|Electronics|HomeT...|            1599|        2999|                 47|   4.2|        NULL| Full motion canti...|AGZU6C2XL3X2B4NEW...|Prashant Pradhan,...|R9GNL4OF49DH6,R2I...|A nice & sturdy p...|Its a good produc...|https://m.media-a...|https://www.amazo...|\n",
      "|B01GGKYKQM|Amazon Basics USB...|Computers&Accesso...|             219|         700|                 69|   4.3|        NULL| Connect USB Type-...|AHVZCQP5SYIVGZJK4...|Hremant,Anjaneyul...|R1BC08IFG4REKS,R1...|You can trust on ...|Previously bought...|https://m.media-a...|https://www.amazo...|\n",
      "|B0B86CDHL1|oraimo 65W Type C...|Computers&Accesso...|             349|         899|                 61|   4.5|         149|🥇【Kindly NOTE be...|AEOIHOJD3O5MYSVWZ...|Ravi Shankar,Prak...|RDFETF8YFDP96,R36...|It worked well fo...|It worked well fo...|https://m.media-a...|https://www.amazo...|\n",
      "|B0B5ZF3NRK|CEDO 65W OnePlus ...|Computers&Accesso...|             349|         599|                 42|   4.1|         210| FAST AND STABLE C...|AGE6O2NLNA3NUGORP...|Satyanarayana,moh...|R27HJ954EMEOQK,R2...|Good.,Good produc...|Working well and ...|https://m.media-a...|https://www.amazo...|\n",
      "+----------+--------------------+--------------------+----------------+------------+-------------------+------+------------+---------------------+--------------------+--------------------+--------------------+--------------------+--------------------+--------------------+--------------------+\n",
      "only showing top 20 rows\n",
      "\n"
     ]
    },
    {
     "name": "stderr",
     "output_type": "stream",
     "text": [
      "[Stage 8:>                                                          (0 + 1) / 1]\r"
     ]
    },
    {
     "name": "stdout",
     "output_type": "stream",
     "text": [
      "-------------------------------------------\n",
      "Batch: 8\n",
      "-------------------------------------------\n",
      "+----------+--------------------+--------------------+----------------+------------+-------------------+------+------------+---------------------+--------------------+--------------------+--------------------+--------------------+--------------------+--------------------+--------------------+\n",
      "|product_id|        product_name|            category|discounted_price|actual_price|discount_percentage|rating|rating_count|        about_product|             user_id|           user_name|           review_id|        review_title|      review_content|            img_link|        product_link|\n",
      "+----------+--------------------+--------------------+----------------+------------+-------------------+------+------------+---------------------+--------------------+--------------------+--------------------+--------------------+--------------------+--------------------+--------------------+\n",
      "|B07JW9H4J1|Wayona Nylon Brai...|Computers&Accesso...|             399|        1099|                 64|   4.2|        NULL| High Compatibilit...|AG3D6O4STAQKAY2UV...|Manav,Adarsh gupt...|R3HXWT0LRP0NMF,R2...|Satisfied,Chargin...|Looks durable Cha...|https://m.media-a...|https://www.amazo...|\n",
      "|B098NS6PVG|Ambrane Unbreakab...|Computers&Accesso...|             199|         349|                 43|   4.0|        NULL| Compatible with a...|AECPFYFQVRUWC3KGN...|ArdKn,Nirbhay kum...|RGIQEG07R9HS2,R1S...|A Good Braided Ca...|I ordered this ca...|https://m.media-a...|https://www.amazo...|\n",
      "|B096MSW6CT|Sounce Fast Phone...|Computers&Accesso...|             199|        1899|                 90|   3.9|        NULL|【 Fast Charger& D...|AGU3BBQ2V2DDAMOAK...|Kunal,Himanshu,vi...|R3J3EQQ9TZI5ZJ,R3...|Good speed for ea...|Not quite durable...|https://m.media-a...|https://www.amazo...|\n",
      "|B08HDJ86NZ|boAt Deuce USB 30...|Computers&Accesso...|             329|         699|                 53|   4.2|        NULL| The boAt Deuce US...|AEWAZDZZJLQUYVOVG...|Omkar dhale,JD,HE...|R3EEUZKKK9J36I,R3...|Good product,Good...|Good product,long...|https://m.media-a...|https://www.amazo...|\n",
      "|B08CF3B7N1|Portronics Konnec...|Computers&Accesso...|             154|         399|                 61|   4.2|        NULL| [CHARGE & SYNC FU...|AE3Q6KSUK5P75D5HF...|rahuls6099,Swasat...|R1BP4L2HH9TFUP,R1...|As good as origin...|Bought this inste...|https://m.media-a...|https://www.amazo...|\n",
      "|B08Y1TFSP6|pTron Solero TB30...|Computers&Accesso...|             149|        1000|                 85|   3.9|        NULL| Fast Charging & D...|AEQ2YMXSZWEOHK2EH...|Jayesh,Rajesh k.,...|R7S8ANNSDPR40,R3C...|It's pretty good,...|It's a good produ...|https://m.media-a...|https://www.amazo...|\n",
      "|B08WRWPM22|boAt Micro USB 55...|Computers&Accesso...|           17663|         499|                 65|   4.1|        NULL| It Ensures High S...|AG7C6DAADCTRQJG2B...|Vivek kumar,Amazo...|R8E73K2KWJRDS,RSD...|Long durable.,goo...|Build quality is ...|https://m.media-a...|https://www.amazo...|\n",
      "|B08DDRGWTJ|MI Usb Type-C Cab...|Computers&Accesso...|             229|         299|                 23|   4.3|        NULL| 1m long Type-C US...|AHW6E5LQ2BDYOIVLA...|Pavan A H,Jayesh ...|R2X090D1YHACKR,R3...|Worth for money -...|Worth for money -...|https://m.media-a...|https://www.amazo...|\n",
      "|B008IFXQFU|TP-Link USB WiFi ...|Computers&Accesso...|             499|         999|                 50|   4.2|        NULL| USB WiFi Adapter ...|AGV3IEFANZCKECFGU...|Azhar JuMan,Aniru...|R1LW6NWSVTVZ2H,R3...|Works on linux fo...|I use this to con...|https://m.media-a...|https://www.amazo...|\n",
      "|B082LZGK39|Ambrane Unbreakab...|Computers&Accesso...|             199|         299|                 33|   4.0|        NULL| Universal Compati...|AECPFYFQVRUWC3KGN...|ArdKn,Nirbhay kum...|RGIQEG07R9HS2,R1S...|A Good Braided Ca...|I ordered this ca...|https://m.media-a...|https://www.amazo...|\n",
      "|B08CF3D7QR|Portronics Konnec...|Computers&Accesso...|             154|         339|                 55|   4.3|        NULL| [CHARGE & SYNC FU...|AGYLPKPZHVYKKZHOT...|Tanya,Anu,Akshay,...|R11MQS7WD9C3I0,R2...|Good for fast cha...|The cable is effi...|https://m.media-a...|https://www.amazo...|\n",
      "|B0789LZTCJ|boAt Rugged v3 Ex...|Computers&Accesso...|             299|         799|                 63|   4.2|        NULL| The boAt rugged c...|AEWAZDZZJLQUYVOVG...|Omkar dhale,JD,HE...|R3EEUZKKK9J36I,R3...|Good product,Good...|Good product,long...|https://m.media-a...|https://www.amazo...|\n",
      "|B07KSMBL2H|AmazonBasics Flex...|Electronics|HomeT...|             219|         700|                 69|   4.4|        NULL| Flexible, lightwe...|AEYJ5I6JZZPOJB6MG...|Rishav Gossain,Sh...|R1FKOKZ3HHKJBZ,R2...|It's quite good a...|I am using it for...|https://m.media-a...|https://www.amazo...|\n",
      "|B085DTN6R2|Portronics Konnec...|Computers&Accesso...|             350|         899|                 61|   4.2|        NULL| [20W PD FAST CHAR...|AGUAYQHARAKR2VZTR...|Priya,Mansi,Plaba...|R1QETDIPRCX4S0,RA...|Works,Nice Produc...|Definitely isn’t ...|https://m.media-a...|https://www.amazo...|\n",
      "|B09KLVMZ3B|Portronics Konnec...|Computers&Accesso...|             159|         399|                 60|   4.1|        NULL| [CHARGE & SYNC FU...|AF2XXVO7JUBUVAOBT...|Deepaak Singh,siv...|R20XIOU25HEX80,R2...|Great but,Worked ...|Loosing charging ...|https://m.media-a...|https://www.amazo...|\n",
      "|B083342NKJ|MI Braided USB Ty...|Computers&Accesso...|             349|         399|                 13|   4.4|        NULL| 1M Long Cable. Us...|AGSGSRTEZBQY64WO2...|Birendra ku Dash,...|R2JPQNKCOE10UK,RQ...|Good product,usin...|I like it 👍👍,Be...|https://m.media-a...|https://www.amazo...|\n",
      "|B0B6F7LX4C|MI 80 cm (32 inch...|Electronics|HomeT...|           13999|       24999|                 44|   4.2|        NULL| Note : The brands...|AHEVOQADJSSRX7DS3...|Manoj maddheshiya...|R13UTIA6KOF6QV,R2...|It is the best tv...|Pros- xiomi 5a is...|https://m.media-a...|https://www.amazo...|\n",
      "|B082LSVT4B|Ambrane Unbreakab...|Computers&Accesso...|             249|         399|                 38|   4.0|        NULL| Compatible with a...|AECPFYFQVRUWC3KGN...|ArdKn,Nirbhay kum...|RGIQEG07R9HS2,R1S...|A Good Braided Ca...|I ordered this ca...|https://m.media-a...|https://www.amazo...|\n",
      "|B08WRBG3XW|boAt Type C A325 ...|Computers&Accesso...|             199|         499|                 60|   4.1|        NULL| Type C A 325 Cabl...|AFB5KJR4Q5FICAHBO...|Rohan Narkar,JAGW...|R2BP8Y5OJXKJLF,R2...|Good for charging...|Check for offera ...|https://m.media-a...|https://www.amazo...|\n",
      "+----------+--------------------+--------------------+----------------+------------+-------------------+------+------------+---------------------+--------------------+--------------------+--------------------+--------------------+--------------------+--------------------+--------------------+\n",
      "\n"
     ]
    },
    {
     "name": "stderr",
     "output_type": "stream",
     "text": [
      "                                                                                \r"
     ]
    },
    {
     "name": "stdout",
     "output_type": "stream",
     "text": [
      "-------------------------------------------\n",
      "Batch: 9\n",
      "-------------------------------------------\n",
      "+----------+--------------------+--------------------+----------------+------------+-------------------+------+------------+--------------------+--------------------+--------------------+--------------------+--------------------+--------------------+--------------------+--------------------+\n",
      "|product_id|        product_name|            category|discounted_price|actual_price|discount_percentage|rating|rating_count|       about_product|             user_id|           user_name|           review_id|        review_title|      review_content|            img_link|        product_link|\n",
      "+----------+--------------------+--------------------+----------------+------------+-------------------+------+------------+--------------------+--------------------+--------------------+--------------------+--------------------+--------------------+--------------------+--------------------+\n",
      "|B08DPLCM6T|LG 80 cm (32 inch...|Electronics|HomeT...|           13490|       21990|                 39|   4.3|        NULL|Resolution: HD Re...|AHBNKB74LGTYUOKPA...|NIRMAL.N,Manoj ku...|R2PNR69G0BQG2F,R3...|Sound quality,Ver...|LG was always Goo...|https://m.media-a...|https://www.amazo...|\n",
      "|B09C6HXFC1|Duracell USB Ligh...|Computers&Accesso...|             970|        1799|                 46|   4.5|         815|Supports Ios Devi...|AFNYIBWKJLJQKY4BG...|Prasannavijayarag...|R12D1BZF9MU8TN,R3...|Good cable for ca...|I trust this prod...|https://m.media-a...|https://www.amazo...|\n",
      "|B085194JFL|tizum HDMI to VGA...|Electronics|HomeT...|             279|         499|                 44|   3.7|        NULL|Superior Stabilit...|AEO5FHWNOSFBT554D...|aditya d.,Paranth...|R1GYK05NN6747O,R1...|Good product ; Av...|This connector ha...|https://m.media-a...|https://www.amazo...|\n",
      "|B09F6S8BT6|Samsung 80 cm (32...|Electronics|HomeT...|           13490|       22900|                 41|   4.3|        NULL|Resolution: HD Re...|AHEVO4Q5NM4YXMG2H...|Rahman Ali,MARIYA...|R1SN0D4DFBKAZI,R1...|Good,Sound is ver...|Overall good.,TV ...|https://m.media-a...|https://www.amazo...|\n",
      "|B09NHVCHS9|Flix Micro Usb Ca...|Computers&Accesso...|              59|         199|                 70|   4.0|        NULL|Micro usb cable i...|AHIKJUDTVJ4T6DV6I...|$@|\\|TO$|-|,Sethu...|R3F4T5TRYPTMIG,R3...|Worked on iPhone ...|Worked on iPhone ...|https://m.media-a...|https://www.amazo...|\n",
      "|B0B1YVCJ2Y|Acer 80 cm (32 in...|Electronics|HomeT...|           11499|       19990|                 42|   4.3|        NULL|Resolution : HD R...|AFSMISGEYDYIP3Z42...|Ayush,ROHIT A.,Ke...|R1EBS3566VCSCG,R2...|Wonderful TV and ...|About the TV - Wo...|https://m.media-a...|https://www.amazo...|\n",
      "|B01M4GGIVU|Tizum High Speed ...|Electronics|HomeT...|             199|         699|                 72|   4.2|        NULL|Latest Standard H...|AGVUE2NFN2MQEOQ4P...|Yashpreet Singh,A...|R2DIHMHOPYEASB,R2...|Cheap product and...|The signal is too...|https://m.media-a...|https://www.amazo...|\n",
      "|B08B42LWKN|OnePlus 80 cm (32...|Electronics|HomeT...|           14999|       19999|                 25|   4.2|        NULL|Resolution: HD Re...|AFUT7ANZTZYGLXU65...|ATHARVA BONDRE,Su...|R3COVVOP2R7Z28,R2...|Worthy and most a...|This OnePlus TV i...|https://m.media-a...|https://www.amazo...|\n",
      "|B094JNXNPV|Ambrane Unbreakab...|Computers&Accesso...|             299|         399|                 25|   4.0|        NULL|Blazing Charging ...|AFYR53OTBUX2RNAKU...|Anand sarma,lokes...|R249YCZVKYR5XD,R1...|Ok cable,three pi...|The product seems...|https://m.media-a...|https://www.amazo...|\n",
      "|B09W5XR9RT|Duracell USB C To...|Computers&Accesso...|             970|        1999|                 51|   4.4|         184|1.2M Tangle Free ...|AHZWJCVEIEI76H2VG...|Amazon Customer,G...|R1Y30KU04V3QF4,RK...|Very good product...|Fast charging.,Ca...|https://m.media-a...|https://www.amazo...|\n",
      "|B077Z65HSD|boAt A400 USB Typ...|Computers&Accesso...|             299|         999|                 70|   4.3|        NULL|2 meter special r...|AFA332YHUPB6I7KMM...|GHOST,Amazon Cust...|R1G4I5FLAHM16P,R1...|Just buy it dont ...|One amazing cable...|https://m.media-a...|https://www.amazo...|\n",
      "|B00NH11PEY|AmazonBasics USB ...|Computers&Accesso...|             199|         750|                 73|   4.5|        NULL|One 9.8-foot-long...|AGBX233C7B7D7YZEL...|Pravin Kumar,Maes...|R1C8MVU3EIX56Y,R1...|Nice,good,Paisa v...|Sufficient length...|https://m.media-a...|https://www.amazo...|\n",
      "|B09CMM3VGK|Ambrane 60W / 3A ...|Computers&Accesso...|             179|         499|                 64|   4.0|        NULL|Stay ahead and ne...|AGHYCMV7RJ5D76UEZ...|Rishabh,Amazon Cu...|R223OIZPTZ994S,RA...|Good product,Good...|The cable build q...|https://m.media-a...|https://www.amazo...|\n",
      "|B08QSC1XY8|Zoul USB C 60W Fa...|Computers&Accesso...|             389|        1099|                 65|   4.3|         974|{3A/QC 3.0 FAST C...|AHMKXORT3VNMB75C3...|Pratyush Pahuja,T...|R2S0AYWUV349HP,R3...|Great Cable, Char...|Not charging as f...|https://m.media-a...|https://www.amazo...|\n",
      "|B008FWZGSG|Samsung Original ...|Computers&Accesso...|             599|         599|                  0|   4.3|         355|USB Type-C to Typ...|AEQWVGESA7TDGK7KZ...|Verified Buyer,Av...|R2Z9ENI1BK4EAB,R2...|Good,Genuine prod...|Buy it,Received i...|https://m.media-a...|https://www.amazo...|\n",
      "|B0B4HJNPV4|pTron Solero T351...|Computers&Accesso...|             199|         999|                 80|   3.9|        NULL|Universal Compati...|AF477BP57JM7Z4JD4...|Placeholder,श्रीP...|R1Q323BB35OP30,RJ...|The metal pin is ...|It's a good data ...|https://m.media-a...|https://www.amazo...|\n",
      "|B08Y1SJVV5|pTron Solero MB30...|Computers&Accesso...|              99|       66666|                 85|   3.9|        NULL|Fast Charging & D...|AEQ2YMXSZWEOHK2EH...|Jayesh,Rajesh k.,...|R7S8ANNSDPR40,R3C...|It's pretty good,...|It's a good produ...|https://m.media-a...|https://www.amazo...|\n",
      "|B07XLCFSSN|Amazonbasics Nylo...|Computers&Accesso...|             899|        1900|                 53|   4.4|        NULL|Fast Charge: When...|AF2IRSQZKMBGX44YD...|Wraith,Krishna En...|R213ILI3XNVHQ0,R1...|Good,Worth to buy...|Good budget mfi c...|https://m.media-a...|https://www.amazo...|\n",
      "|B09RZS1NQT|Sounce 65W OnePlu...|Computers&Accesso...|             199|         999|                 80|   4.0|         576|[USB C To USB C C...|AHUH7OYN3LAUATF5E...|Anmol,Vani,Tejas ...|RW294SCHB5QTK,R24...|Worth it!,Good on...|It does the job r...|https://m.media-a...|https://www.amazo...|\n",
      "|B0B3MMYHYW|OnePlus 126 cm (5...|Electronics|HomeT...|           32999|       45999|                 28|   4.2|        NULL|Resolution: 4K Ul...|AGDOVGWZKEQ3M6DA2...|Abhishek Kumar,Ar...|R2J3Q3BUHJ2S7E,R2...|Decent product. V...|I am posting this...|https://m.media-a...|https://www.amazo...|\n",
      "+----------+--------------------+--------------------+----------------+------------+-------------------+------+------------+--------------------+--------------------+--------------------+--------------------+--------------------+--------------------+--------------------+--------------------+\n",
      "only showing top 20 rows\n",
      "\n"
     ]
    },
    {
     "name": "stderr",
     "output_type": "stream",
     "text": [
      "                                                                                \r"
     ]
    },
    {
     "name": "stdout",
     "output_type": "stream",
     "text": [
      "-------------------------------------------\n",
      "Batch: 10\n",
      "-------------------------------------------\n",
      "+----------+--------------------+--------------------+----------------+------------+-------------------+------+------------+---------------------+--------------------+--------------------+--------------------+--------------------+--------------------+--------------------+--------------------+\n",
      "|product_id|        product_name|            category|discounted_price|actual_price|discount_percentage|rating|rating_count|        about_product|             user_id|           user_name|           review_id|        review_title|      review_content|            img_link|        product_link|\n",
      "+----------+--------------------+--------------------+----------------+------------+-------------------+------+------------+---------------------+--------------------+--------------------+--------------------+--------------------+--------------------+--------------------+--------------------+\n",
      "|B08FYB5HHK|TP-Link UE300C US...|Computers&Accesso...|            1199|        1999|                 40|   4.5|        NULL| Ideal for laptop,...|AHQC27SWWMUOTO3W7...|MOINUL H.,Jayendr...|R30SWI8U6K7PDR,R2...|Easy to use,Worki...|Good looking amd ...|https://m.media-a...|https://www.amazo...|\n",
      "|B0994GFWBH|Lapster 1.5 mtr U...|Computers&Accesso...|             139|         999|                 86|   4.0|        NULL| Plug & Play|Stabl...|AF42EMTPEJAL4LNEP...|pruthvi natraj,Ph...|RZJR37WFGXR9B,R39...|A well-priced pro...|i am writing this...|https://m.media-a...|https://www.amazo...|\n",
      "|B0B5GJRTHB|Wecool Moonwalk M...|Electronics|Headp...|             889|        1999|                 56|   4.2|        NULL| We have designed ...|AGMD2UVAWOKO3W37K...|Siddhesh s.,Karth...|R1R1JK1E1KZYX8,R2...|Great Customer ca...|I ordered this pr...|https://m.media-a...|https://www.amazo...|\n",
      "|B09GBBJV72|HP 330 Wireless B...|Computers&Accesso...|            1409|        2199|                 36|   3.9|         427| Num pad and commo...|AETHN2CGVNPVX5Y6S...|Selva sibi,TZ,c d...|R2RDB07DGL4GM9,R3...|Good,Excellent qu...|Mouse open cover ...|https://m.media-a...|https://www.amazo...|\n",
      "|B07P434WJY|RC PRINT GI 790 I...|Computers&Accesso...|             549|        1999|                 73|   4.3|        NULL| Inks designed spe...|AGWXUDJLYBQYBI5O7...|madhu AR,Pawan,Mo...|R2LRRBAFN6I6AZ,R1...|Value for money,I...|+ Good product+ C...|https://m.media-a...|https://www.amazo...|\n",
      "|B07T9FV9YP|Redgear Cloak Wir...|Computers&Accesso...|             749|        1799|                 58|   4.0|        NULL| Sound Quality: Re...|AFZ7BSWDEUCVHARR4...|RUPESH BISHT,Sino...|R1VOPN2U7TR5UG,RC...|Worthful if offer...|Good product unde...|https://m.media-a...|https://www.amazo...|\n",
      "|B01GGKZ0V6|AmazonBasics USB ...|Computers&Accesso...|             329|         845|                 61|   4.2|        NULL| Connect Usb Type-...|AEITVIFC7WZAEQDIV...|harpreet,Y Kiran ...|R37S13YALMRPGK,R2...|Its ok product no...|Not too good not ...|https://m.media-a...|https://www.amazo...|\n",
      "|B08WKFSN84|Wayona Type C To ...|Computers&Accesso...|             379|        1099|                 66|   4.3|        NULL|⚡【65W High Speed ...|AHL2CPZ63TFC3VB3R...|sameer Dubey,vire...|RGNARUOE22V1A,R5K...|Good material, fa...|Material os very ...|https://m.media-a...|https://www.amazo...|\n",
      "|B09TBCVJS3|Amazfit GTS2 Mini...|Electronics|Weara...|            5998|        7999|                 25|   4.2|        NULL| 1.55 Always-on AM...|AFCN4ZD2X2EVUUDSG...|Nagarjuna Pavan K...|R32FKIYH8C9GMX,RY...|Not a disappointm...|Original 3rd Jan ...|https://m.media-a...|https://www.amazo...|\n",
      "|B08TR61BVK|Tabelito® Polyest...|Computers&Accesso...|             299|        1499|                 80|   4.2|        NULL| Compatible Device...|AFJIOGKIZE7HIIGKY...|Naveenkumar.K,Jen...|R1EGA4C6RWIIZ3,R2...|Ha,Good product,E...|Product is good a...|https://m.media-a...|https://www.amazo...|\n",
      "|B0B2CPVXHX|Robustrion Anti-S...|Computers&Accesso...|             379|        1499|                 75|   4.1|         670| COMPATIBILITY: Sp...|AFMYEBPS6GDJSJNW3...|Javid Nisar,Dr. G...|R1FUZJ0GWDCLUS,R3...|Loved it.,Not smu...|Not a smudge proo...|https://m.media-a...|https://www.amazo...|\n",
      "|B08XNL93PL|Portronics Ruffpa...|OfficeProducts|Of...|            1399|        2999|                 53|   4.3|        NULL| [REWRITABLE LCD N...|AEYGIH4DOWVSDCW5N...|Shibendra,Rajesh,...|R174KRUPEU2G7V,RW...|Helpful product f...|When I open the b...|https://m.media-a...|https://www.amazo...|\n",
      "|B088GXTJM3|DIGITEK® (DLS-9FT...|Electronics|Camer...|             699|        1299|                 46|   4.3|        NULL| HEAVY-DUTY & LIGH...|AEIGFUFEU2YGVXZQS...|KS,Shubham gupta,...|R1KOODMSYFQFQK,R1...|Good,Good stand i...|Nice product. Wil...|https://m.media-a...|https://www.amazo...|\n",
      "|B099S26HWG|Classmate Pulse 1...|OfficeProducts|Of...|             300|         300|                  0|   4.2|         419| The cover design ...|AFXZNVON4LZKKL23D...|Ayush pandey,Pune...|R3I568NWPF5187,R1...|Pages size is sma...|Pages are small,O...|https://m.media-a...|https://www.amazo...|\n",
      "|B08461VC1Z|Scarters Mouse Pa...|Computers&Accesso...|             999|        1995|                 50|   4.5|        NULL| Dimensions: 90 cm...|AFTJIOQOYRDJGI723...|Abhay N.,Karan Ar...|R21X3T7OXJDYF5,RF...|Nice looking and ...|This is my first ...|https://m.media-a...|https://www.amazo...|\n",
      "|B00K32PEW4|Casio MJ-120D 150...|OfficeProducts|Of...|             535|         535|                  0|   4.4|        NULL| Dedicated Tax key...|AGJ2FUFEZ6Y65C3CZ...|Certified custome...|R1JB53IQ0AXIHW,RP...|Utilitarian,Excel...|Standard calculat...|https://m.media-a...|https://www.amazo...|\n",
      "|B09F9YQQ7B|Redmi 80 cm (32 i...|Electronics|HomeT...|           13999|       24999|                 44|   4.2|        NULL| Resolution: HD Re...|AG6WSLLXZY52HSQUY...|prateeq,Suraj Cha...|R3CR9H6ABJ4Q4O,R2...|Worth the price,M...|Worth the price. ...|https://m.media-a...|https://www.amazo...|\n",
      "|B07LFWP97N|Gizga Essentials ...|Computers&Accesso...|             269|        1099|                 76|   4.1|        NULL| Innovative Design...|AHAV4CJCMF5EPFWOH...|Amazon Customer,P...|R306AT7RAPPB4F,R1...|Nice product,Not ...|Nice product,Not ...|https://m.media-a...|https://www.amazo...|\n",
      "|B0746N6WML|Parker Vector Cam...|OfficeProducts|Of...|             341|         450|                 24|   4.3|        NULL| This charming loo...|AFVTO4K2IG5AYWZPO...|Good,Aayush,Nupur...|R37OWPWWYU7L3G,R2...|Good,Made for spe...|Good,Amazing,Nice...|https://m.media-a...|https://www.amazo...|\n",
      "|B07W9KYT62|TP-Link AC1200 Ar...|Computers&Accesso...|            2499|        3999|                 38|   4.4|        NULL| AC1200 Dual-Band ...|AHGPGK7X35WHOVKQH...|Josh Crooner,ADIT...|RS0YPV8CGGS8R,R3L...|👎Disappointed 👎...|I really liked th...|https://m.media-a...|https://www.amazo...|\n",
      "+----------+--------------------+--------------------+----------------+------------+-------------------+------+------------+---------------------+--------------------+--------------------+--------------------+--------------------+--------------------+--------------------+--------------------+\n",
      "only showing top 20 rows\n",
      "\n"
     ]
    },
    {
     "name": "stderr",
     "output_type": "stream",
     "text": [
      "                                                                                \r"
     ]
    },
    {
     "name": "stdout",
     "output_type": "stream",
     "text": [
      "-------------------------------------------\n",
      "Batch: 11\n",
      "-------------------------------------------\n",
      "+----------+--------------------+--------------------+----------------+------------+-------------------+------+------------+---------------------+--------------------+--------------------+--------------------+--------------------+--------------------+--------------------+--------------------+\n",
      "|product_id|        product_name|            category|discounted_price|actual_price|discount_percentage|rating|rating_count|        about_product|             user_id|           user_name|           review_id|        review_title|      review_content|            img_link|        product_link|\n",
      "+----------+--------------------+--------------------+----------------+------------+-------------------+------+------------+---------------------+--------------------+--------------------+--------------------+--------------------+--------------------+--------------------+--------------------+\n",
      "|B07JW9H4J1|Wayona Nylon Brai...|Computers&Accesso...|             399|        1099|                 64|   4.2|        NULL| High Compatibilit...|AG3D6O4STAQKAY2UV...|Manav,Adarsh gupt...|R3HXWT0LRP0NMF,R2...|Satisfied,Chargin...|Looks durable Cha...|https://m.media-a...|https://www.amazo...|\n",
      "|B098NS6PVG|Ambrane Unbreakab...|Computers&Accesso...|             199|         349|                 43|   4.0|        NULL| Compatible with a...|AECPFYFQVRUWC3KGN...|ArdKn,Nirbhay kum...|RGIQEG07R9HS2,R1S...|A Good Braided Ca...|I ordered this ca...|https://m.media-a...|https://www.amazo...|\n",
      "|B096MSW6CT|Sounce Fast Phone...|Computers&Accesso...|             199|        1899|                 90|   3.9|        NULL|【 Fast Charger& D...|AGU3BBQ2V2DDAMOAK...|Kunal,Himanshu,vi...|R3J3EQQ9TZI5ZJ,R3...|Good speed for ea...|Not quite durable...|https://m.media-a...|https://www.amazo...|\n",
      "|B08HDJ86NZ|boAt Deuce USB 30...|Computers&Accesso...|             329|         699|                 53|   4.2|        NULL| The boAt Deuce US...|AEWAZDZZJLQUYVOVG...|Omkar dhale,JD,HE...|R3EEUZKKK9J36I,R3...|Good product,Good...|Good product,long...|https://m.media-a...|https://www.amazo...|\n",
      "|B08CF3B7N1|Portronics Konnec...|Computers&Accesso...|             154|         399|                 61|   4.2|        NULL| [CHARGE & SYNC FU...|AE3Q6KSUK5P75D5HF...|rahuls6099,Swasat...|R1BP4L2HH9TFUP,R1...|As good as origin...|Bought this inste...|https://m.media-a...|https://www.amazo...|\n",
      "|B08Y1TFSP6|pTron Solero TB30...|Computers&Accesso...|             149|        1000|                 85|   3.9|        NULL| Fast Charging & D...|AEQ2YMXSZWEOHK2EH...|Jayesh,Rajesh k.,...|R7S8ANNSDPR40,R3C...|It's pretty good,...|It's a good produ...|https://m.media-a...|https://www.amazo...|\n",
      "|B08WRWPM22|boAt Micro USB 55...|Computers&Accesso...|           17663|         499|                 65|   4.1|        NULL| It Ensures High S...|AG7C6DAADCTRQJG2B...|Vivek kumar,Amazo...|R8E73K2KWJRDS,RSD...|Long durable.,goo...|Build quality is ...|https://m.media-a...|https://www.amazo...|\n",
      "|B08DDRGWTJ|MI Usb Type-C Cab...|Computers&Accesso...|             229|         299|                 23|   4.3|        NULL| 1m long Type-C US...|AHW6E5LQ2BDYOIVLA...|Pavan A H,Jayesh ...|R2X090D1YHACKR,R3...|Worth for money -...|Worth for money -...|https://m.media-a...|https://www.amazo...|\n",
      "|B008IFXQFU|TP-Link USB WiFi ...|Computers&Accesso...|             499|         999|                 50|   4.2|        NULL| USB WiFi Adapter ...|AGV3IEFANZCKECFGU...|Azhar JuMan,Aniru...|R1LW6NWSVTVZ2H,R3...|Works on linux fo...|I use this to con...|https://m.media-a...|https://www.amazo...|\n",
      "|B082LZGK39|Ambrane Unbreakab...|Computers&Accesso...|             199|         299|                 33|   4.0|        NULL| Universal Compati...|AECPFYFQVRUWC3KGN...|ArdKn,Nirbhay kum...|RGIQEG07R9HS2,R1S...|A Good Braided Ca...|I ordered this ca...|https://m.media-a...|https://www.amazo...|\n",
      "|B08CF3D7QR|Portronics Konnec...|Computers&Accesso...|             154|         339|                 55|   4.3|        NULL| [CHARGE & SYNC FU...|AGYLPKPZHVYKKZHOT...|Tanya,Anu,Akshay,...|R11MQS7WD9C3I0,R2...|Good for fast cha...|The cable is effi...|https://m.media-a...|https://www.amazo...|\n",
      "|B0789LZTCJ|boAt Rugged v3 Ex...|Computers&Accesso...|             299|         799|                 63|   4.2|        NULL| The boAt rugged c...|AEWAZDZZJLQUYVOVG...|Omkar dhale,JD,HE...|R3EEUZKKK9J36I,R3...|Good product,Good...|Good product,long...|https://m.media-a...|https://www.amazo...|\n",
      "|B07KSMBL2H|AmazonBasics Flex...|Electronics|HomeT...|             219|         700|                 69|   4.4|        NULL| Flexible, lightwe...|AEYJ5I6JZZPOJB6MG...|Rishav Gossain,Sh...|R1FKOKZ3HHKJBZ,R2...|It's quite good a...|I am using it for...|https://m.media-a...|https://www.amazo...|\n",
      "|B085DTN6R2|Portronics Konnec...|Computers&Accesso...|             350|         899|                 61|   4.2|        NULL| [20W PD FAST CHAR...|AGUAYQHARAKR2VZTR...|Priya,Mansi,Plaba...|R1QETDIPRCX4S0,RA...|Works,Nice Produc...|Definitely isn’t ...|https://m.media-a...|https://www.amazo...|\n",
      "|B09KLVMZ3B|Portronics Konnec...|Computers&Accesso...|             159|         399|                 60|   4.1|        NULL| [CHARGE & SYNC FU...|AF2XXVO7JUBUVAOBT...|Deepaak Singh,siv...|R20XIOU25HEX80,R2...|Great but,Worked ...|Loosing charging ...|https://m.media-a...|https://www.amazo...|\n",
      "|B083342NKJ|MI Braided USB Ty...|Computers&Accesso...|             349|         399|                 13|   4.4|        NULL| 1M Long Cable. Us...|AGSGSRTEZBQY64WO2...|Birendra ku Dash,...|R2JPQNKCOE10UK,RQ...|Good product,usin...|I like it 👍👍,Be...|https://m.media-a...|https://www.amazo...|\n",
      "|B0B6F7LX4C|MI 80 cm (32 inch...|Electronics|HomeT...|           13999|       24999|                 44|   4.2|        NULL| Note : The brands...|AHEVOQADJSSRX7DS3...|Manoj maddheshiya...|R13UTIA6KOF6QV,R2...|It is the best tv...|Pros- xiomi 5a is...|https://m.media-a...|https://www.amazo...|\n",
      "|B082LSVT4B|Ambrane Unbreakab...|Computers&Accesso...|             249|         399|                 38|   4.0|        NULL| Compatible with a...|AECPFYFQVRUWC3KGN...|ArdKn,Nirbhay kum...|RGIQEG07R9HS2,R1S...|A Good Braided Ca...|I ordered this ca...|https://m.media-a...|https://www.amazo...|\n",
      "|B08WRBG3XW|boAt Type C A325 ...|Computers&Accesso...|             199|         499|                 60|   4.1|        NULL| Type C A 325 Cabl...|AFB5KJR4Q5FICAHBO...|Rohan Narkar,JAGW...|R2BP8Y5OJXKJLF,R2...|Good for charging...|Check for offera ...|https://m.media-a...|https://www.amazo...|\n",
      "|B08DPLCM6T|LG 80 cm (32 inch...|Electronics|HomeT...|           13490|       21990|                 39|   4.3|        NULL| Resolution: HD Re...|AHBNKB74LGTYUOKPA...|NIRMAL.N,Manoj ku...|R2PNR69G0BQG2F,R3...|Sound quality,Ver...|LG was always Goo...|https://m.media-a...|https://www.amazo...|\n",
      "+----------+--------------------+--------------------+----------------+------------+-------------------+------+------------+---------------------+--------------------+--------------------+--------------------+--------------------+--------------------+--------------------+--------------------+\n",
      "only showing top 20 rows\n",
      "\n"
     ]
    },
    {
     "name": "stderr",
     "output_type": "stream",
     "text": [
      "                                                                                \r"
     ]
    },
    {
     "name": "stdout",
     "output_type": "stream",
     "text": [
      "-------------------------------------------\n",
      "Batch: 12\n",
      "-------------------------------------------\n",
      "+----------+--------------------+--------------------+----------------+------------+-------------------+------+------------+---------------------+--------------------+--------------------+--------------------+--------------------+--------------------+--------------------+--------------------+\n",
      "|product_id|        product_name|            category|discounted_price|actual_price|discount_percentage|rating|rating_count|        about_product|             user_id|           user_name|           review_id|        review_title|      review_content|            img_link|        product_link|\n",
      "+----------+--------------------+--------------------+----------------+------------+-------------------+------+------------+---------------------+--------------------+--------------------+--------------------+--------------------+--------------------+--------------------+--------------------+\n",
      "|B08PV1X771|Samsung 80 cm (32...|Electronics|HomeT...|           15490|       20900|                 26|   4.3|        NULL| Resolution: HD Re...|AHEVO4Q5NM4YXMG2H...|Rahman Ali,MARIYA...|R1SN0D4DFBKAZI,R1...|Good,Sound is ver...|Overall good.,TV ...|https://m.media-a...|https://www.amazo...|\n",
      "|B07YTNKVJQ|MI Xiaomi USB Typ...|Computers&Accesso...|             499|        1299|                 62|   4.3|        NULL| Supports 120W Fas...|AHW6E5LQ2BDYOIVLA...|Pavan A H,Jayesh ...|R2X090D1YHACKR,R3...|Worth for money -...|Worth for money -...|https://m.media-a...|https://www.amazo...|\n",
      "|B0117H7GZ6|GENERIC Ultra-Min...|Computers&Accesso...|             249|         399|                 38|   3.4|        NULL| Item design may v...|AGG2AULXZCI6G44ST...|Akmathambil | Xpl...|RS38MZA2FG7HF,R16...|Install CSR Drive...|USB Bluetooth CSR...|https://m.media-a...|https://www.amazo...|\n",
      "|B09XJ1LM7R|7SEVEN® Compatibl...|Electronics|HomeT...|             399|         799|                 50|   4.3|          12| [Compatible] All ...|AE242TR3GQ6TYC6W4...|         anurag jain|      R38OAD16RVS9D4|          do not buy|tv on off not wor...|https://m.media-a...|https://www.amazo...|\n",
      "|B084N133Y7|Belkin Apple Cert...|Computers&Accesso...|            1499|        1999|                 25|   4.4|        NULL| Lightning Speed L...|AE2JTMRKTUOIVIZWS...|Ganesh,P P.,anas,...|R23AXPPZ5G7J6Q,R2...|Perfect product,B...|Good cable. got o...|https://m.media-a...|https://www.amazo...|\n",
      "|B088Z1YWBC|EGate i9 Pro-Max ...|Electronics|HomeT...|            9490|       15990|                 41|   3.9|        NULL| Display :BIGGER &...|AH6QHRMENKX6PFBXH...|Amazon Customer,M...|R1IW58DJL28MGC,R2...|VFM and kudos to ...|This review is fo...|https://m.media-a...|https://www.amazo...|\n",
      "|B07VSG5SXZ|ZEBRONICS HAA2021...|Electronics|HomeT...|             637|        1499|                 58|   4.1|          24| Superior quality ...|AFWKYTQRPXNGB7RII...|Amazon Customer,G...|R1YDBBZUKFOLJH,RN...|good,Worth produc...|good,Value for mo...|https://m.media-a...|https://www.amazo...|\n",
      "|B08RWCZ6SY|7SEVEN® Compatibl...|Electronics|HomeT...|             399|         899|                 56|   3.9|         254| 1. Remote control...|AFUR3EWCD6OMWNI7E...|T A Rajagopal,Ane...|RX043807PIUYL,R2Y...|Working good.,All...|Remote control is...|https://m.media-a...|https://www.amazo...|\n",
      "|B07KSB1MLX|AmazonBasics Digi...|Electronics|HomeT...|            1089|        1600|                 32|   4.0|        NULL| Audio converter b...|AF5XVR5OXJ67BJZGI...|Amazon Customer,S...|R14Q2PBO5QNTZQ,R1...|Satisfactory one,...|The build quality...|https://m.media-a...|https://www.amazo...|\n",
      "|B081FG1QYX|Wayona Type C Cab...|Computers&Accesso...|             339|         999|                 66|   4.3|        NULL|✅【Fast Charge & D...|AH3ZH5IE4MTFB3T33...|SMG,Rohit,roy,Suk...|R3CGMQSB9H564N,RG...|Good pick for Gal...|I purchased the c...|https://m.media-a...|https://www.amazo...|\n",
      "|B08R69WBN7|Pinnaclz Original...|Computers&Accesso...|             149|         499|                 70|   4.0|        NULL| [SYNC & CHARGE] :...|AEGZSNGSJJAEMJ3RR...|Vijayan C V,Sanja...|R2VUNGNI96EEJ7,R2...|Very good product...|Liked the product...|https://m.media-a...|https://www.amazo...|\n",
      "|B0B3RHX6B6|Ambrane BCL-15 Li...|Computers&Accesso...|             149|         399|                 63|   3.9|          57| Upto 15W Fast Cha...|AFYQPTD6YGHPLNTGA...|Nik Xavier,Muhamm...|R1YMUWEBTRFUJL,R3...|Quality is good,V...|Good one….,Very g...|https://m.media-a...|https://www.amazo...|\n",
      "|B084N18QZY|Belkin USB C to U...|Computers&Accesso...|             599|         849|                 29|   4.5|         577| 2-Year Manufactur...|AEMJJNJTRB4DQ2EMQ...|Khan, BA,Vaibhav,...|RUU9CCQBQ59IY,RX8...|Good only for Cha...|The cable is good...|https://m.media-a...|https://www.amazo...|\n",
      "|B081NHWT6Z|LOHAYA Television...|Electronics|HomeT...|             299|        1199|                 75|   3.9|        NULL| Compatible Device...|AGAVEOWLSMUI7WPD3...|Pinky,girish,Saji...|RMWWVT8FORZQU,R1U...|Worthy product,Ve...|Compatabile for s...|https://m.media-a...|https://www.amazo...|\n",
      "|B07JPJJZ2H|Wayona Nylon Brai...|Computers&Accesso...|             399|        1299|                 69|   4.2|        NULL| [High Compatibili...|AGKNFVSMZCSEFHPAS...|Pratik,Amazon Cus...|R3JCOBHM1JXUQ0,R2...|Good product,Is w...|I like the produc...|https://m.media-a...|https://www.amazo...|\n",
      "|B09JKNF147|Electvision Remot...|Electronics|HomeT...|             339|        1999|                 83|   4.0|         343| *Please match you...|AGSMOEVIV64A236CL...|MANIK SK,Niranjan...|RHS375RK0RRAQ,R2O...|really good produ...|really good produ...|https://m.media-a...|https://www.amazo...|\n",
      "|B0B9959XF3|Acer 80 cm (32 in...|Electronics|HomeT...|           12499|       22990|                 46|   4.3|        NULL| Resolution : HD R...|AEJGEJAGW7MDJMBVY...|Moon Tej,Aditya s...|R19Q6OQ19PWL5K,RX...|Tv working good.,...|Tv working good, ...|https://m.media-a...|https://www.amazo...|\n",
      "|B09PNR6F8Q|realme 10W Fast C...|Computers&Accesso...|             249|         399|                 38|   4.0|        NULL| realme's 10W Micr...|AHPG3AAPVL7HKSID4...|Ajinkya M K,iggi,...|RK4CS8ATPVMJ2,R3N...|Great to use, ser...|Quality is good, ...|https://m.media-a...|https://www.amazo...|\n",
      "|B07M69276N|TP-Link AC1300 US...|Computers&Accesso...|            1399|        2499|                 44|   4.4|        NULL| Ultimate Wi-Fi Sp...|AGYAPOCHJTBVSKV3G...|Shweta Bairagi,Sa...|R3WPIQCSIWIMK,R1A...|Good device and m...|Good device and m...|https://m.media-a...|https://www.amazo...|\n",
      "|B0B1YZ9CB8|Acer 139 cm (55 i...|Electronics|HomeT...|           32999|       47990|                 31|   4.3|        NULL| Resolution : 4K U...|AFSMISGEYDYIP3Z42...|Ayush,ROHIT A.,Ke...|R1EBS3566VCSCG,R2...|Wonderful TV and ...|About the TV - Wo...|https://m.media-a...|https://www.amazo...|\n",
      "+----------+--------------------+--------------------+----------------+------------+-------------------+------+------------+---------------------+--------------------+--------------------+--------------------+--------------------+--------------------+--------------------+--------------------+\n",
      "only showing top 20 rows\n",
      "\n"
     ]
    }
   ],
   "source": [
    "if __name__ == \"__main__\":\n",
    "    spark_conn = create_spark_connection()\n",
    "    if spark_conn is not None:\n",
    "        spark_df = connect_to_kafka(spark_conn)\n",
    "        if spark_df is not None:\n",
    "            selection_df = create_selection_df_from_kafka(spark_df)\n",
    "            write_stream_to_console(selection_df)\n"
   ]
  }
 ],
 "metadata": {
  "kernelspec": {
   "display_name": "Python 3 (ipykernel)",
   "language": "python",
   "name": "python3"
  },
  "language_info": {
   "codemirror_mode": {
    "name": "ipython",
    "version": 3
   },
   "file_extension": ".py",
   "mimetype": "text/x-python",
   "name": "python",
   "nbconvert_exporter": "python",
   "pygments_lexer": "ipython3",
   "version": "3.12.1"
  }
 },
 "nbformat": 4,
 "nbformat_minor": 2
}
